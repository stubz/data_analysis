{
 "cells": [
  {
   "cell_type": "markdown",
   "metadata": {},
   "source": [
    "Allow the error in the classification. It can be solved in a closed form, but it takes time and almost impossible to solve when the data become too large. To get around with the problem of calculating an inverse of a large matrix, we iteratively update the weight to find the solution.\n",
    "\n",
    "### How to update $w$\n",
    "$w'_c = w_c - \\rho\\epsilon_{cp} x_p$\n"
   ]
  },
  {
   "cell_type": "code",
   "execution_count": 48,
   "metadata": {},
   "outputs": [],
   "source": [
    "import numpy as np\n",
    "\n",
    "y = np.array([1,1,0,1,0,0])\n",
    "x = np.array([1.0, 0.5, -0.2, -0.4, -1.3, -2.0])\n",
    "X = np.array([np.ones(len(x)), x])\n",
    "rho = 0.2"
   ]
  },
  {
   "cell_type": "code",
   "execution_count": 49,
   "metadata": {},
   "outputs": [
    {
     "data": {
      "text/plain": [
       "array([ 0.5 ,  0.35,  0.14,  0.08, -0.19, -0.4 ])"
      ]
     },
     "execution_count": 49,
     "metadata": {},
     "output_type": "execute_result"
    }
   ],
   "source": [
    "w = np.array([0.2, 0.3])\n",
    "gx = w.dot(X)\n",
    "error = w.dot(X) - y\n",
    "gx"
   ]
  },
  {
   "cell_type": "markdown",
   "metadata": {},
   "source": [
    "Update $w$ by $w - \\rho\\epsilon_{cp}x_p$"
   ]
  },
  {
   "cell_type": "code",
   "execution_count": 50,
   "metadata": {},
   "outputs": [
    {
     "data": {
      "text/plain": [
       "array([-0.5 , -0.65,  0.14, -0.92, -0.19, -0.4 ])"
      ]
     },
     "execution_count": 50,
     "metadata": {},
     "output_type": "execute_result"
    }
   ],
   "source": [
    "error"
   ]
  },
  {
   "cell_type": "code",
   "execution_count": 52,
   "metadata": {},
   "outputs": [
    {
     "data": {
      "text/plain": [
       "0.8673"
      ]
     },
     "execution_count": 52,
     "metadata": {},
     "output_type": "execute_result"
    }
   ],
   "source": [
    "0.5*np.sum(error**2)"
   ]
  },
  {
   "cell_type": "code",
   "execution_count": 36,
   "metadata": {},
   "outputs": [
    {
     "data": {
      "text/plain": [
       "array([0.704 , 0.1876])"
      ]
     },
     "execution_count": 36,
     "metadata": {},
     "output_type": "execute_result"
    }
   ],
   "source": [
    "w_new = w - rho*X.dot(error)\n",
    "w_new"
   ]
  },
  {
   "cell_type": "markdown",
   "metadata": {},
   "source": [
    "Now we can iterate this calculation."
   ]
  },
  {
   "cell_type": "code",
   "execution_count": 55,
   "metadata": {},
   "outputs": [],
   "source": [
    "def update_weight(w, X, y, rho = 0.2):\n",
    "    gx = w.dot(X)\n",
    "    error = gx - y\n",
    "    w_new = w - rho * X.dot(error)\n",
    "    sqrd_error = 0.5*np.sum(error**2)\n",
    "    return w_new, sqrd_error"
   ]
  },
  {
   "cell_type": "code",
   "execution_count": 56,
   "metadata": {},
   "outputs": [
    {
     "data": {
      "text/plain": [
       "(array([0.704 , 0.1876]), 0.8673)"
      ]
     },
     "execution_count": 56,
     "metadata": {},
     "output_type": "execute_result"
    }
   ],
   "source": [
    "update_weight(w, X, y, rho=0.2)"
   ]
  },
  {
   "cell_type": "code",
   "execution_count": 64,
   "metadata": {},
   "outputs": [
    {
     "name": "stdout",
     "output_type": "stream",
     "text": [
      "1th iteration weight=[0.704  0.1876]  error=0.867\n",
      "2th iteration weight=[0.549248  0.4776272]  error=0.477\n",
      "3th iteration weight=[0.71941146 0.2792146 ]  error=0.417\n",
      "4th iteration weight=[0.59014072 0.44581365]  error=0.384\n",
      "5th iteration weight=[0.69596241 0.3124593 ]  error=0.362\n",
      "6th iteration weight=[0.61078798 0.42032938]  error=0.348\n",
      "7th iteration weight=[0.6796005  0.33327726]  error=0.339\n",
      "8th iteration weight=[0.62405298 0.40356557]  error=0.333\n",
      "9th iteration weight=[0.66890088 0.34681937]  error=0.329\n",
      "10th iteration weight=[0.63269312 0.39263373]  error=0.327\n",
      "11th iteration weight=[0.66192557 0.35564546]  error=0.325\n",
      "12th iteration weight=[0.63832471 0.38550802]  error=0.324\n",
      "13th iteration weight=[0.65737891 0.36139843]  error=0.323\n",
      "14th iteration weight=[0.64199546 0.38086335]  error=0.323\n",
      "15th iteration weight=[0.65441531 0.36514831]  error=0.323\n",
      "16th iteration weight=[0.64438813 0.37783587]  error=0.322\n",
      "17th iteration weight=[0.65248359 0.36759255]  error=0.322\n",
      "18th iteration weight=[0.6459477  0.37586252]  error=0.322\n",
      "19th iteration weight=[0.65122447 0.36918574]  error=0.322\n",
      "20th iteration weight=[0.64696426 0.37457625]  error=0.322\n",
      "21th iteration weight=[0.65040375 0.37022421]  error=0.322\n",
      "22th iteration weight=[0.64762687 0.37373784]  error=0.322\n",
      "23th iteration weight=[0.64986879 0.37090111]  error=0.322\n",
      "24th iteration weight=[0.64805877 0.37319134]  error=0.322\n",
      "25th iteration weight=[0.64952009 0.37134232]  error=0.322\n",
      "26th iteration weight=[0.64834029 0.37283513]  error=0.322\n",
      "27th iteration weight=[0.6492928 0.3716299]  error=0.322\n",
      "28th iteration weight=[0.64852379 0.37260295]  error=0.322\n",
      "29th iteration weight=[0.64914466 0.37181736]  error=0.322\n"
     ]
    }
   ],
   "source": [
    "w = np.array([0.2, 0.3])\n",
    "rho = 0.2\n",
    "prev_error = 1000\n",
    "for i in range(50):\n",
    "    w, error = update_weight(w, X, y, rho)\n",
    "    delta_error = abs(prev_error - error)\n",
    "    prev_error = error\n",
    "    print(\"{}th iteration weight={}  error={:.3f}\".format(i+1, w, error))\n",
    "    if delta_error > 0.000001:\n",
    "        continue\n",
    "    else:\n",
    "        break"
   ]
  },
  {
   "cell_type": "code",
   "execution_count": 67,
   "metadata": {},
   "outputs": [
    {
     "data": {
      "text/plain": [
       "1.3862943611198906"
      ]
     },
     "execution_count": 67,
     "metadata": {},
     "output_type": "execute_result"
    }
   ],
   "source": [
    "from scipy.stats import entropy\n",
    "\n",
    "entropy(np.array([0.5, 0.5, 0.5, 0.5]))"
   ]
  },
  {
   "cell_type": "code",
   "execution_count": 74,
   "metadata": {},
   "outputs": [],
   "source": [
    "p = np.array([0.5, 0.2, .2, 0.1])"
   ]
  },
  {
   "cell_type": "code",
   "execution_count": 75,
   "metadata": {},
   "outputs": [
    {
     "data": {
      "text/plain": [
       "1.2206072645530173"
      ]
     },
     "execution_count": 75,
     "metadata": {},
     "output_type": "execute_result"
    }
   ],
   "source": [
    "-np.sum(p*np.log(p))"
   ]
  },
  {
   "cell_type": "code",
   "execution_count": 76,
   "metadata": {},
   "outputs": [
    {
     "data": {
      "text/plain": [
       "1.2206072645530175"
      ]
     },
     "execution_count": 76,
     "metadata": {},
     "output_type": "execute_result"
    }
   ],
   "source": [
    "entropy(p)"
   ]
  },
  {
   "cell_type": "code",
   "execution_count": null,
   "metadata": {},
   "outputs": [],
   "source": []
  }
 ],
 "metadata": {
  "kernelspec": {
   "display_name": "Python 3",
   "language": "python",
   "name": "python3"
  },
  "language_info": {
   "codemirror_mode": {
    "name": "ipython",
    "version": 3
   },
   "file_extension": ".py",
   "mimetype": "text/x-python",
   "name": "python",
   "nbconvert_exporter": "python",
   "pygments_lexer": "ipython3",
   "version": "3.5.5"
  }
 },
 "nbformat": 4,
 "nbformat_minor": 2
}
