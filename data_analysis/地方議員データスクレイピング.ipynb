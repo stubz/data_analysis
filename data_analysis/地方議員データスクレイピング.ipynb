{
 "cells": [
  {
   "cell_type": "markdown",
   "metadata": {},
   "source": [
    "今日は天気です。"
   ]
  },
  {
   "cell_type": "code",
   "execution_count": 2,
   "metadata": {},
   "outputs": [],
   "source": [
    "# \n",
    "from urllib import request\n",
    "from bs4 import BeautifulSoup"
   ]
  },
  {
   "cell_type": "code",
   "execution_count": 3,
   "metadata": {},
   "outputs": [],
   "source": [
    "url = 'https://go2senkyo.com/local/senkyo/18627'\n",
    "html = request.urlopen(url)\n",
    "soup = BeautifulSoup(html, \"html.parser\")"
   ]
  },
  {
   "cell_type": "code",
   "execution_count": 4,
   "metadata": {},
   "outputs": [],
   "source": [
    "a = soup.find_all(\"div\", attrs={\"class\", \"m_senkyo_result_data_right\"})"
   ]
  },
  {
   "cell_type": "code",
   "execution_count": 5,
   "metadata": {},
   "outputs": [],
   "source": [
    "name_area = a[0].find(\"a\").contents[0]\n",
    "# The element looks like below, so remove the new line and the tabs.\n",
    "# \\n\\t\\t\\t\\t\\t\\t\\t\\t\\t\\t\\t\\t\\t\\t\\t\\t神山 玄太\n",
    "name = name_area.replace('\\t','').replace('\\n','')"
   ]
  },
  {
   "cell_type": "code",
   "execution_count": 6,
   "metadata": {},
   "outputs": [],
   "source": [
    "party = a[0].find(\"p\", attrs={\"class\", \"m_senkyo_result_data_circle\"}).contents[0]\n"
   ]
  },
  {
   "cell_type": "code",
   "execution_count": 7,
   "metadata": {},
   "outputs": [
    {
     "name": "stdout",
     "output_type": "stream",
     "text": [
      "Age:36, Gender:男\n"
     ]
    }
   ],
   "source": [
    "import re\n",
    "\n",
    "age_gender_area = a[0].find(\"p\", attrs={\"class\",\"m_senkyo_result_data_para\"}).contents[0].contents[0]\n",
    "age_raw, gender_raw = age_gender_area.split(' ')\n",
    "\n",
    "age_mat = re.compile(r'\\d*')\n",
    "age_num = age_mat.match(age_raw).group()\n",
    "gender = gender_raw.replace('(', '').replace(')','')\n",
    "\n",
    "print(\"Age:{}, Gender:{}\".format(age_num, gender))\n"
   ]
  },
  {
   "cell_type": "code",
   "execution_count": 67,
   "metadata": {},
   "outputs": [],
   "source": [
    "def extractMPInfo(bs_text):\n",
    "    \"\"\"\n",
    "    obtain name, age, gender and party of a candidate\n",
    "    \"\"\"\n",
    "    name_area = bs_text.find(\"a\").contents[0]\n",
    "    # The element looks like below, so remove the new line and the tabs.\n",
    "    # \\n\\t\\t\\t\\t\\t\\t\\t\\t\\t\\t\\t\\t\\t\\t\\t\\t神山 玄太\n",
    "    name = name_area.replace('\\t','').replace('\\n','')\n",
    "    \n",
    "    party = bs_text.find(\"p\", attrs={\"class\", \"m_senkyo_result_data_circle\"}).contents[0]\n",
    "    \n",
    "    age_gender_area = bs_text.find(\"p\", attrs={\"class\",\"m_senkyo_result_data_para\"}).contents[0].contents[0]\n",
    "    age_raw, gender_raw = age_gender_area.split(' ')\n",
    "\n",
    "    age_mat = re.compile(r'\\d*')\n",
    "    age_num = age_mat.match(age_raw).group()\n",
    "    gender = gender_raw.replace('(', '').replace(')','')\n",
    "    \n",
    "    has_won = bs_text.find(\"td\", attrs={\"class\", \"left red\"}) is not None\n",
    "    \n",
    "    return name, party, age_num, gender, has_won\n",
    "\n"
   ]
  },
  {
   "cell_type": "code",
   "execution_count": 18,
   "metadata": {},
   "outputs": [],
   "source": [
    "a[0].find(\"td\", attr={\"class\", \"left red\"})\n",
    "a[0].find(\"img\", attr={\"alt\", \"当選\"})"
   ]
  },
  {
   "cell_type": "code",
   "execution_count": 70,
   "metadata": {},
   "outputs": [
    {
     "name": "stdout",
     "output_type": "stream",
     "text": [
      "('神山 玄太', '無所属', '36', '男', True)\n",
      "('寺田 義彦', '無所属', '39', '男', True)\n",
      "('望月 大輔', '無所属', '37', '男', True)\n",
      "('藤原 伸一郎', '無所属', '40', '男', True)\n",
      "('鈴木 あつし', '無所属', '61', '男', True)\n",
      "('山田 厚', '社会民主党', '67', '男', True)\n",
      "('兵道 けんじ', '公明党', '61', '男', True)\n",
      "('清水 ひとし', '無所属', '69', '男', True)\n",
      "('岡 まさよし', '無所属', '74', '男', True)\n",
      "('末木 咲子', '無所属', '57', '女', True)\n",
      "('木内 なおこ', '日本共産党', '60', '女', True)\n",
      "('おざわ 浩', '無所属', '58', '男', True)\n",
      "('中村 あきひこ', '公明党', '61', '男', True)\n",
      "('深沢 けんご', '無所属', '45', '男', True)\n",
      "('植田 としみ', '公明党', '61', '女', True)\n",
      "('山中 和男', '無所属', '41', '男', True)\n",
      "('さめだ 光一', '無所属', '45', '男', True)\n",
      "('長沼 たつひこ', '無所属', '63', '男', True)\n",
      "('長沢 たつや', '公明党', '55', '男', True)\n",
      "('小沢 宏至', '無所属', '51', '男', True)\n",
      "('金丸 さぶろう', '無所属', '64', '男', True)\n",
      "('堀 とめほ', '公明党', '52', '女', True)\n",
      "('こしいし 修', '無所属', '58', '男', True)\n",
      "('ひろせ 集一', '無所属', '66', '男', True)\n",
      "('坂本 のぶやす', '無所属', '69', '男', True)\n",
      "('天野 はじめ', '無所属', '57', '男', True)\n",
      "('池谷 むつお', '無所属', '76', '男', True)\n",
      "('おぎはら 隆宏', '無所属', '52', '男', True)\n",
      "('原田 ひろじ', '無所属', '74', '男', True)\n",
      "('清水 ひでとも', '日本共産党', '47', '男', True)\n",
      "('川崎 やすし', '無所属', '51', '男', True)\n",
      "('やまだ ひろゆき', '無所属', '62', '男', True)\n",
      "('内藤 しろう', '日本共産党', '60', '男', False)\n",
      "('長坂 まさはる', '日本共産党', '68', '男', False)\n",
      "('依田 かつみ', '無所属', '56', '男', False)\n",
      "('かみじょう 司', '無所属', '56', '男', False)\n",
      "('さとう 久', '無所属', '49', '男', False)\n",
      "('三井 正俊', '無所属', '50', '男', False)\n",
      "('わかな 大介', '無所属', '39', '男', False)\n",
      "('渡辺 とみたか', '無所属', '67', '男', False)\n"
     ]
    }
   ],
   "source": [
    "tbl = soup.find(\"table\", attrs={\"class\", \"m_senkyo_result_table\"})\n",
    "tbl_candidate = tbl.find_all(\"tr\")\n",
    "\n",
    "for candidate in tbl_candidate:\n",
    "    print(extractMPInfo(candidate))"
   ]
  },
  {
   "cell_type": "code",
   "execution_count": 68,
   "metadata": {},
   "outputs": [
    {
     "name": "stdout",
     "output_type": "stream",
     "text": [
      "Age:36, Gender:男 Has Seat:True\n"
     ]
    },
    {
     "data": {
      "text/plain": [
       "('山田 厚', '社会民主党', '67', '男', True)"
      ]
     },
     "execution_count": 68,
     "metadata": {},
     "output_type": "execute_result"
    }
   ],
   "source": [
    "import re\n",
    "\n",
    "age_gender_area = tbl_candidate[0].find(\"p\", attrs={\"class\",\"m_senkyo_result_data_para\"}).contents[0].contents[0]\n",
    "age_raw, gender_raw = age_gender_area.split(' ')\n",
    "\n",
    "age_mat = re.compile(r'\\d*')\n",
    "age_num = age_mat.match(age_raw).group()\n",
    "gender = gender_raw.replace('(', '').replace(')','')\n",
    "\n",
    "has_won = tbl_candidate[0].find(\"td\", attrs={\"class\", \"left red\"}) is not None\n",
    "\n",
    "print(\"Age:{}, Gender:{} Has Seat:{}\".format(age_num, gender, has_won))\n",
    "extractMPInfo(tbl_candidate[5])"
   ]
  },
  {
   "cell_type": "code",
   "execution_count": 60,
   "metadata": {},
   "outputs": [],
   "source": [
    "tbl_candidate[35].find(\"td\", attrs={\"class\", \"left red\"})"
   ]
  },
  {
   "cell_type": "code",
   "execution_count": 52,
   "metadata": {},
   "outputs": [
    {
     "data": {
      "text/plain": [
       "<p class=\"m_senkyo_result_data_para\"><span>36歳 (男)</span><span>現職</span></p>"
      ]
     },
     "execution_count": 52,
     "metadata": {},
     "output_type": "execute_result"
    }
   ],
   "source": [
    "tbl.find(\"p\", attrs={\"class\",\"m_senkyo_result_data_para\"})"
   ]
  },
  {
   "cell_type": "code",
   "execution_count": 65,
   "metadata": {},
   "outputs": [
    {
     "data": {
      "text/plain": [
       "True"
      ]
     },
     "execution_count": 65,
     "metadata": {},
     "output_type": "execute_result"
    }
   ],
   "source": [
    "tbl_candidate[5].find(\"td\", attrs={\"class\",\"left red\"}) is not None\n",
    "# tbl_candidate[35].find(\"td\", attrs={\"class\",\"left red\"}) is not None"
   ]
  },
  {
   "cell_type": "code",
   "execution_count": 9,
   "metadata": {},
   "outputs": [
    {
     "data": {
      "text/plain": [
       "[]"
      ]
     },
     "execution_count": 9,
     "metadata": {},
     "output_type": "execute_result"
    }
   ],
   "source": []
  },
  {
   "cell_type": "code",
   "execution_count": null,
   "metadata": {},
   "outputs": [],
   "source": []
  }
 ],
 "metadata": {
  "kernelspec": {
   "display_name": "Python 3",
   "language": "python",
   "name": "python3"
  },
  "language_info": {
   "codemirror_mode": {
    "name": "ipython",
    "version": 3
   },
   "file_extension": ".py",
   "mimetype": "text/x-python",
   "name": "python",
   "nbconvert_exporter": "python",
   "pygments_lexer": "ipython3",
   "version": "3.5.5"
  }
 },
 "nbformat": 4,
 "nbformat_minor": 2
}
