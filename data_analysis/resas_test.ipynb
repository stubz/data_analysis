{
 "cells": [
  {
   "cell_type": "markdown",
   "metadata": {},
   "source": [
    "[PythonでRESAS APIを使ってデータをダウンロード](https://note.nkmk.me/python-resas-api-download/)\n",
    "\n",
    "[Qiita: RESAS-APIをつかってみました](https://qiita.com/kk300/items/993a869a0119f3935bb8)\n"
   ]
  },
  {
   "cell_type": "code",
   "execution_count": 1,
   "metadata": {},
   "outputs": [],
   "source": [
    "import json\n",
    "import urllib.request\n",
    "import pprint\n",
    "import pandas as pd"
   ]
  },
  {
   "cell_type": "code",
   "execution_count": 14,
   "metadata": {},
   "outputs": [
    {
     "name": "stdout",
     "output_type": "stream",
     "text": [
      "{'X-API-KEY': 'XBrssyMmKjnKtDxLLQLdcpEJZYKrpgbN6RqPAaHr'}\n",
      "<class 'dict'>\n"
     ]
    }
   ],
   "source": [
    "with open('./resas_api.json') as f:\n",
    "    api_key = json.load(f)\n",
    "\n",
    "print(api_key)\n",
    "print(type(api_key))"
   ]
  },
  {
   "cell_type": "code",
   "execution_count": 15,
   "metadata": {},
   "outputs": [],
   "source": [
    "url = 'https://opendata.resas-portal.go.jp/api/v1/prefectures'\n",
    "req = urllib.request.Request(url, headers=api_key)"
   ]
  },
  {
   "cell_type": "code",
   "execution_count": 16,
   "metadata": {},
   "outputs": [
    {
     "name": "stdout",
     "output_type": "stream",
     "text": [
      "<class 'bytes'>\n"
     ]
    }
   ],
   "source": [
    "with urllib.request.urlopen(req) as response:\n",
    "    data = response.read()\n",
    "\n",
    "print(type(data))"
   ]
  },
  {
   "cell_type": "code",
   "execution_count": 17,
   "metadata": {},
   "outputs": [
    {
     "name": "stdout",
     "output_type": "stream",
     "text": [
      "{'message': None,\n",
      " 'result': [{'prefCode': 1, 'prefName': '北海道'},\n",
      "            {'prefCode': 2, 'prefName': '青森県'},\n",
      "            {'prefCode': 3, 'prefName': '岩手県'},\n",
      "            {'prefCode': 4, 'prefName': '宮城県'},\n",
      "            {'prefCode': 5, 'prefName': '秋田県'},\n",
      "            {'prefCode': 6, 'prefName': '山形県'},\n",
      "            {'prefCode': 7, 'prefName': '福島県'},\n",
      "            {'prefCode': 8, 'prefName': '茨城県'},\n",
      "            {'prefCode': 9, 'prefName': '栃木県'},\n",
      "            {'prefCode': 10, 'prefName': '群馬県'},\n",
      "            {'prefCode': 11, 'prefName': '埼玉県'},\n",
      "            {'prefCode': 12, 'prefName': '千葉県'},\n",
      "            {'prefCode': 13, 'prefName': '東京都'},\n",
      "            {'prefCode': 14, 'prefName': '神奈川県'},\n",
      "            {'prefCode': 15, 'prefName': '新潟県'},\n",
      "            {'prefCode': 16, 'prefName': '富山県'},\n",
      "            {'prefCode': 17, 'prefName': '石川県'},\n",
      "            {'prefCode': 18, 'prefName': '福井県'},\n",
      "            {'prefCode': 19, 'prefName': '山梨県'},\n",
      "            {'prefCode': 20, 'prefName': '長野県'},\n",
      "            {'prefCode': 21, 'prefName': '岐阜県'},\n",
      "            {'prefCode': 22, 'prefName': '静岡県'},\n",
      "            {'prefCode': 23, 'prefName': '愛知県'},\n",
      "            {'prefCode': 24, 'prefName': '三重県'},\n",
      "            {'prefCode': 25, 'prefName': '滋賀県'},\n",
      "            {'prefCode': 26, 'prefName': '京都府'},\n",
      "            {'prefCode': 27, 'prefName': '大阪府'},\n",
      "            {'prefCode': 28, 'prefName': '兵庫県'},\n",
      "            {'prefCode': 29, 'prefName': '奈良県'},\n",
      "            {'prefCode': 30, 'prefName': '和歌山県'},\n",
      "            {'prefCode': 31, 'prefName': '鳥取県'},\n",
      "            {'prefCode': 32, 'prefName': '島根県'},\n",
      "            {'prefCode': 33, 'prefName': '岡山県'},\n",
      "            {'prefCode': 34, 'prefName': '広島県'},\n",
      "            {'prefCode': 35, 'prefName': '山口県'},\n",
      "            {'prefCode': 36, 'prefName': '徳島県'},\n",
      "            {'prefCode': 37, 'prefName': '香川県'},\n",
      "            {'prefCode': 38, 'prefName': '愛媛県'},\n",
      "            {'prefCode': 39, 'prefName': '高知県'},\n",
      "            {'prefCode': 40, 'prefName': '福岡県'},\n",
      "            {'prefCode': 41, 'prefName': '佐賀県'},\n",
      "            {'prefCode': 42, 'prefName': '長崎県'},\n",
      "            {'prefCode': 43, 'prefName': '熊本県'},\n",
      "            {'prefCode': 44, 'prefName': '大分県'},\n",
      "            {'prefCode': 45, 'prefName': '宮崎県'},\n",
      "            {'prefCode': 46, 'prefName': '鹿児島県'},\n",
      "            {'prefCode': 47, 'prefName': '沖縄県'}]}\n"
     ]
    }
   ],
   "source": [
    "d = json.loads(data.decode())\n",
    "pprint.pprint(d)"
   ]
  },
  {
   "cell_type": "markdown",
   "metadata": {},
   "source": [
    "Store the data as pandas data frame"
   ]
  },
  {
   "cell_type": "code",
   "execution_count": 18,
   "metadata": {},
   "outputs": [
    {
     "name": "stdout",
     "output_type": "stream",
     "text": [
      "   prefCode prefName\n",
      "0         1      北海道\n",
      "1         2      青森県\n",
      "2         3      岩手県\n",
      "3         4      宮城県\n",
      "4         5      秋田県\n"
     ]
    }
   ],
   "source": [
    "import pandas as pd\n",
    "df = pd.io.json.json_normalize(d['result'])\n",
    "print(df.head())"
   ]
  },
  {
   "cell_type": "code",
   "execution_count": 19,
   "metadata": {},
   "outputs": [
    {
     "data": {
      "text/html": [
       "<div>\n",
       "<style scoped>\n",
       "    .dataframe tbody tr th:only-of-type {\n",
       "        vertical-align: middle;\n",
       "    }\n",
       "\n",
       "    .dataframe tbody tr th {\n",
       "        vertical-align: top;\n",
       "    }\n",
       "\n",
       "    .dataframe thead th {\n",
       "        text-align: right;\n",
       "    }\n",
       "</style>\n",
       "<table border=\"1\" class=\"dataframe\">\n",
       "  <thead>\n",
       "    <tr style=\"text-align: right;\">\n",
       "      <th></th>\n",
       "      <th>prefCode</th>\n",
       "      <th>prefName</th>\n",
       "    </tr>\n",
       "  </thead>\n",
       "  <tbody>\n",
       "    <tr>\n",
       "      <th>0</th>\n",
       "      <td>1</td>\n",
       "      <td>北海道</td>\n",
       "    </tr>\n",
       "    <tr>\n",
       "      <th>1</th>\n",
       "      <td>2</td>\n",
       "      <td>青森県</td>\n",
       "    </tr>\n",
       "    <tr>\n",
       "      <th>2</th>\n",
       "      <td>3</td>\n",
       "      <td>岩手県</td>\n",
       "    </tr>\n",
       "    <tr>\n",
       "      <th>3</th>\n",
       "      <td>4</td>\n",
       "      <td>宮城県</td>\n",
       "    </tr>\n",
       "    <tr>\n",
       "      <th>4</th>\n",
       "      <td>5</td>\n",
       "      <td>秋田県</td>\n",
       "    </tr>\n",
       "    <tr>\n",
       "      <th>5</th>\n",
       "      <td>6</td>\n",
       "      <td>山形県</td>\n",
       "    </tr>\n",
       "    <tr>\n",
       "      <th>6</th>\n",
       "      <td>7</td>\n",
       "      <td>福島県</td>\n",
       "    </tr>\n",
       "    <tr>\n",
       "      <th>7</th>\n",
       "      <td>8</td>\n",
       "      <td>茨城県</td>\n",
       "    </tr>\n",
       "    <tr>\n",
       "      <th>8</th>\n",
       "      <td>9</td>\n",
       "      <td>栃木県</td>\n",
       "    </tr>\n",
       "    <tr>\n",
       "      <th>9</th>\n",
       "      <td>10</td>\n",
       "      <td>群馬県</td>\n",
       "    </tr>\n",
       "  </tbody>\n",
       "</table>\n",
       "</div>"
      ],
      "text/plain": [
       "   prefCode prefName\n",
       "0         1      北海道\n",
       "1         2      青森県\n",
       "2         3      岩手県\n",
       "3         4      宮城県\n",
       "4         5      秋田県\n",
       "5         6      山形県\n",
       "6         7      福島県\n",
       "7         8      茨城県\n",
       "8         9      栃木県\n",
       "9        10      群馬県"
      ]
     },
     "execution_count": 19,
     "metadata": {},
     "output_type": "execute_result"
    }
   ],
   "source": [
    "df.head(10)"
   ]
  },
  {
   "cell_type": "markdown",
   "metadata": {},
   "source": [
    "APIの一覧は[ここから](https://opendata.resas-portal.go.jp/docs/api/v1/cities.html)見られる。例えば市区町村データの場合、\n",
    "\n",
    "```\n",
    "GET  api/v1/cities\n",
    "```\n",
    "と記載があるので、URLの最後の文字列をこれに変更する。サンプルのところにあるように、\n",
    "\n",
    "```html\n",
    "GET https://opendata.resas-portal.go.jp/api/v1/cities?prefCode=1\n",
    "```\n",
    "\n",
    "とあるので、都道府県コードをパラメータとして指定する。"
   ]
  },
  {
   "cell_type": "code",
   "execution_count": 24,
   "metadata": {},
   "outputs": [
    {
     "data": {
      "text/html": [
       "<div>\n",
       "<style scoped>\n",
       "    .dataframe tbody tr th:only-of-type {\n",
       "        vertical-align: middle;\n",
       "    }\n",
       "\n",
       "    .dataframe tbody tr th {\n",
       "        vertical-align: top;\n",
       "    }\n",
       "\n",
       "    .dataframe thead th {\n",
       "        text-align: right;\n",
       "    }\n",
       "</style>\n",
       "<table border=\"1\" class=\"dataframe\">\n",
       "  <thead>\n",
       "    <tr style=\"text-align: right;\">\n",
       "      <th></th>\n",
       "      <th>bigCityFlag</th>\n",
       "      <th>cityCode</th>\n",
       "      <th>cityName</th>\n",
       "      <th>prefCode</th>\n",
       "    </tr>\n",
       "  </thead>\n",
       "  <tbody>\n",
       "    <tr>\n",
       "      <th>0</th>\n",
       "      <td>3</td>\n",
       "      <td>13101</td>\n",
       "      <td>千代田区</td>\n",
       "      <td>13</td>\n",
       "    </tr>\n",
       "    <tr>\n",
       "      <th>1</th>\n",
       "      <td>3</td>\n",
       "      <td>13102</td>\n",
       "      <td>中央区</td>\n",
       "      <td>13</td>\n",
       "    </tr>\n",
       "    <tr>\n",
       "      <th>2</th>\n",
       "      <td>3</td>\n",
       "      <td>13103</td>\n",
       "      <td>港区</td>\n",
       "      <td>13</td>\n",
       "    </tr>\n",
       "    <tr>\n",
       "      <th>3</th>\n",
       "      <td>3</td>\n",
       "      <td>13104</td>\n",
       "      <td>新宿区</td>\n",
       "      <td>13</td>\n",
       "    </tr>\n",
       "    <tr>\n",
       "      <th>4</th>\n",
       "      <td>3</td>\n",
       "      <td>13105</td>\n",
       "      <td>文京区</td>\n",
       "      <td>13</td>\n",
       "    </tr>\n",
       "  </tbody>\n",
       "</table>\n",
       "</div>"
      ],
      "text/plain": [
       "  bigCityFlag cityCode cityName  prefCode\n",
       "0           3    13101     千代田区        13\n",
       "1           3    13102      中央区        13\n",
       "2           3    13103       港区        13\n",
       "3           3    13104      新宿区        13\n",
       "4           3    13105      文京区        13"
      ]
     },
     "execution_count": 24,
     "metadata": {},
     "output_type": "execute_result"
    }
   ],
   "source": [
    "url = 'https://opendata.resas-portal.go.jp/api/v1/cities?prefCode=13'\n",
    "req = urllib.request.Request(url, headers=api_key)\n",
    "with urllib.request.urlopen(req) as response:\n",
    "    data = response.read()\n",
    "\n",
    "    \n",
    "d = json.loads(data.decode())\n",
    "cities = pd.io.json.json_normalize(d['result'])\n",
    "cities.head(5)"
   ]
  },
  {
   "cell_type": "markdown",
   "metadata": {},
   "source": [
    "### 昼間・夜間人口"
   ]
  },
  {
   "cell_type": "code",
   "execution_count": 26,
   "metadata": {},
   "outputs": [
    {
     "data": {
      "text/html": [
       "<div>\n",
       "<style scoped>\n",
       "    .dataframe tbody tr th:only-of-type {\n",
       "        vertical-align: middle;\n",
       "    }\n",
       "\n",
       "    .dataframe tbody tr th {\n",
       "        vertical-align: top;\n",
       "    }\n",
       "\n",
       "    .dataframe thead th {\n",
       "        text-align: right;\n",
       "    }\n",
       "</style>\n",
       "<table border=\"1\" class=\"dataframe\">\n",
       "  <thead>\n",
       "    <tr style=\"text-align: right;\">\n",
       "      <th></th>\n",
       "      <th>city</th>\n",
       "      <th>dayNightRate</th>\n",
       "      <th>mode</th>\n",
       "      <th>nightData</th>\n",
       "      <th>nightDataSum</th>\n",
       "      <th>noonData</th>\n",
       "      <th>noonDataSum</th>\n",
       "      <th>pref</th>\n",
       "      <th>year</th>\n",
       "    </tr>\n",
       "  </thead>\n",
       "  <tbody>\n",
       "    <tr>\n",
       "      <th>0</th>\n",
       "      <td>13101</td>\n",
       "      <td>1460.58</td>\n",
       "      <td>2</td>\n",
       "      <td>[{'value': 47647, 'code': '13101', 'name': '東京...</td>\n",
       "      <td>58406</td>\n",
       "      <td>[{'value': 61909, 'code': '14100', 'name': '神奈...</td>\n",
       "      <td>853068</td>\n",
       "      <td>13</td>\n",
       "      <td>2015</td>\n",
       "    </tr>\n",
       "  </tbody>\n",
       "</table>\n",
       "</div>"
      ],
      "text/plain": [
       "    city  dayNightRate mode  \\\n",
       "0  13101       1460.58    2   \n",
       "\n",
       "                                           nightData  nightDataSum  \\\n",
       "0  [{'value': 47647, 'code': '13101', 'name': '東京...         58406   \n",
       "\n",
       "                                            noonData  noonDataSum pref  year  \n",
       "0  [{'value': 61909, 'code': '14100', 'name': '神奈...       853068   13  2015  "
      ]
     },
     "execution_count": 26,
     "metadata": {},
     "output_type": "execute_result"
    }
   ],
   "source": [
    "url = 'https://opendata.resas-portal.go.jp/api/v1/townPlanning/commuteSchool/areaPopulationCircle?prefecture_cd=13&city_cd=13101&mode=2&year=2015'\n",
    "req = urllib.request.Request(url, headers=api_key)\n",
    "with urllib.request.urlopen(req) as response:\n",
    "    data = response.read()\n",
    "\n",
    "    \n",
    "d = json.loads(data.decode())\n",
    "pop = pd.io.json.json_normalize(d['result'])\n",
    "pop.head(5)"
   ]
  },
  {
   "cell_type": "code",
   "execution_count": 29,
   "metadata": {},
   "outputs": [
    {
     "data": {
      "text/plain": [
       "0    [{'value': 47647, 'code': '13101', 'name': '東京...\n",
       "Name: nightData, dtype: object"
      ]
     },
     "execution_count": 29,
     "metadata": {},
     "output_type": "execute_result"
    }
   ],
   "source": [
    "pop.nightData"
   ]
  },
  {
   "cell_type": "code",
   "execution_count": null,
   "metadata": {},
   "outputs": [],
   "source": []
  }
 ],
 "metadata": {
  "kernelspec": {
   "display_name": "Python 3",
   "language": "python",
   "name": "python3"
  },
  "language_info": {
   "codemirror_mode": {
    "name": "ipython",
    "version": 3
   },
   "file_extension": ".py",
   "mimetype": "text/x-python",
   "name": "python",
   "nbconvert_exporter": "python",
   "pygments_lexer": "ipython3",
   "version": "3.5.5"
  }
 },
 "nbformat": 4,
 "nbformat_minor": 2
}
