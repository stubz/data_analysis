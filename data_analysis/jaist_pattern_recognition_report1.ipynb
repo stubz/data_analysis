{
 "cells": [
  {
   "cell_type": "markdown",
   "metadata": {},
   "source": [
    "# Experiment of perceptron learning\n",
    "### 名前: 山本雄介\n",
    "### 学生番号: 1930032\n",
    "\n",
    "First create a code that can find the linearly separable answer as in the handouts."
   ]
  },
  {
   "cell_type": "code",
   "execution_count": 151,
   "metadata": {},
   "outputs": [],
   "source": [
    "import numpy as np\n",
    "\n",
    "y = np.array([1,1,1,2,2,2])\n",
    "x = np.array([1.2, 0.2, -0.2, -0.5, -1.0, -1.5])\n",
    "X = np.array([np.ones(len(x)), x])"
   ]
  },
  {
   "cell_type": "code",
   "execution_count": 152,
   "metadata": {},
   "outputs": [],
   "source": [
    "def update_weight(w, X, y, rho = 0.5):\n",
    "    gx = w.dot(X)\n",
    "    if (gx > 0):\n",
    "        y_pred = 1\n",
    "    else:\n",
    "        y_pred = 2\n",
    "\n",
    "    if (gx > 0) & (y == 2):\n",
    "        # when negative and misclassified, update the weights by w - rho*x\n",
    "        new_w = w - rho * X\n",
    "    elif (gx <= 0) & (y == 1):\n",
    "        # when positive and misclassified, update the weights by w + rho*x\n",
    "        new_w = w + rho * X\n",
    "    else:\n",
    "        new_w = w\n",
    "    return(new_w, w, y_pred, gx)\n",
    "    \n"
   ]
  },
  {
   "cell_type": "code",
   "execution_count": 153,
   "metadata": {},
   "outputs": [
    {
     "name": "stdout",
     "output_type": "stream",
     "text": [
      "1th iteration\n",
      "[0.5 0.5] 1 1.1\n",
      "[0.5 0.5] 1 0.6\n",
      "[0.5 0.5] 1 0.4\n",
      "[0.5 0.5] 1 0.25\n",
      "[0.   0.75] 2 -0.75\n",
      "[0.   0.75] 2 -1.125\n",
      "2th iteration\n",
      "[0.   0.75] 1 0.8999999999999999\n",
      "[0.   0.75] 1 0.15000000000000002\n",
      "[0.   0.75] 2 -0.15000000000000002\n",
      "[0.5  0.65] 1 0.175\n",
      "[0.  0.9] 2 -0.9\n",
      "[0.  0.9] 2 -1.35\n",
      "3th iteration\n",
      "[0.  0.9] 1 1.08\n",
      "[0.  0.9] 1 0.18000000000000002\n",
      "[0.  0.9] 2 -0.18000000000000002\n",
      "[0.5 0.8] 1 0.09999999999999998\n",
      "[0.   1.05] 2 -1.05\n",
      "[0.   1.05] 2 -1.5750000000000002\n",
      "4th iteration\n",
      "[0.   1.05] 1 1.26\n",
      "[0.   1.05] 1 0.21000000000000002\n",
      "[0.   1.05] 2 -0.21000000000000002\n",
      "[0.5  0.95] 1 0.024999999999999967\n",
      "[0.  1.2] 2 -1.2000000000000002\n",
      "[0.  1.2] 2 -1.8000000000000003\n",
      "5th iteration\n",
      "[0.  1.2] 1 1.4400000000000002\n",
      "[0.  1.2] 1 0.24000000000000005\n",
      "[0.  1.2] 2 -0.24000000000000005\n",
      "[0.5 1.1] 2 -0.050000000000000044\n",
      "[0.5 1.1] 2 -0.6000000000000001\n",
      "[0.5 1.1] 2 -1.1500000000000001\n",
      "6th iteration\n",
      "[0.5 1.1] 1 1.82\n",
      "[0.5 1.1] 1 0.72\n",
      "[0.5 1.1] 1 0.27999999999999997\n",
      "[0.5 1.1] 2 -0.050000000000000044\n",
      "[0.5 1.1] 2 -0.6000000000000001\n",
      "[0.5 1.1] 2 -1.1500000000000001\n",
      "iteration finished at 6\n"
     ]
    }
   ],
   "source": [
    "# iterate upto 100 to avoid infinite loop\n",
    "w = np.array([0.5, 0.5])\n",
    "rho = 0.5\n",
    "y_new = np.zeros(len(y))\n",
    "\n",
    "for N in range(10):\n",
    "    print(\"{}th iteration\".format(N+1))\n",
    "    for i in range(len(y)):\n",
    "        w, old_w, y_pred, gx = update_weight(w, X[:,i], y[i], rho=0.5)\n",
    "        y_new[i] = y_pred\n",
    "        print(old_w, y_pred, gx)\n",
    "    \n",
    "    if all(y == y_new):\n",
    "        print(\"iteration finished at {}\".format(N+1))\n",
    "        break\n",
    "    else:\n",
    "        continue\n",
    "    "
   ]
  },
  {
   "cell_type": "markdown",
   "metadata": {},
   "source": [
    "This creates the exact same answer as in the handouts. The code looks good. \n",
    "\n",
    "Now let us experiment how the training behaves when we change how to update the parameter $\\rho$. We will slightly change the code so that we can experiment how many iterations we need to find the answer."
   ]
  },
  {
   "cell_type": "code",
   "execution_count": 154,
   "metadata": {},
   "outputs": [],
   "source": [
    "def perceptron_training(w, X, y, rho = 0.5):\n",
    "    y_new = np.zeros(len(y))\n",
    "    # we will run upto 1000 iterations to avoid infinite loop.\n",
    "    for N in range(1000):\n",
    "        for i in range(len(y)):\n",
    "            w, old_w, y_pred, gx = update_weight(w, X[:,i], y[i], rho=rho)\n",
    "            y_new[i] = y_pred\n",
    "\n",
    "        if all(y == y_new):\n",
    "            return N+1\n",
    "            break\n",
    "        else:\n",
    "            continue"
   ]
  },
  {
   "cell_type": "code",
   "execution_count": 155,
   "metadata": {},
   "outputs": [
    {
     "data": {
      "text/plain": [
       "6"
      ]
     },
     "execution_count": 155,
     "metadata": {},
     "output_type": "execute_result"
    }
   ],
   "source": [
    "w = np.array([0.5, 0.5])\n",
    "rho = 0.5\n",
    "\n",
    "perceptron_training(w, X, y, rho)"
   ]
  },
  {
   "cell_type": "markdown",
   "metadata": {},
   "source": [
    "With this function we can count how many iterations were needed to find the linearly seprable answer."
   ]
  },
  {
   "cell_type": "code",
   "execution_count": 205,
   "metadata": {},
   "outputs": [],
   "source": [
    "rhos = [0.005, 0.01, 0.1, 0.2, 0.3, 0.4, 0.5, 0.6, 0.7, 0.8, 0.9, 1.0, 2, 5, 10]\n",
    "iter_cnt = np.zeros(len(rhos))\n",
    "\n",
    "for i, r in enumerate(rhos):\n",
    "    iter_cnt[i] = perceptron_training(w, X, y, r)\n",
    "    # print(\"rho = {}  found answer in {} iterations\".format(r, iter_cnt[i]))\n",
    "    "
   ]
  },
  {
   "cell_type": "code",
   "execution_count": 193,
   "metadata": {},
   "outputs": [
    {
     "data": {
      "text/plain": [
       "Text(0, 0.5, '# of iterations')"
      ]
     },
     "execution_count": 193,
     "metadata": {},
     "output_type": "execute_result"
    },
    {
     "data": {
      "image/png": "[encoded data removed]",
      "text/plain": [
       "<Figure size 432x288 with 1 Axes>"
      ]
     },
     "metadata": {
      "needs_background": "light"
     },
     "output_type": "display_data"
    }
   ],
   "source": [
    "import matplotlib.pyplot as plt\n",
    "fig, ax = plt.subplots(1, 1, figsize=(6, 4))\n",
    "ax.plot(rhos, iter_cnt)\n",
    "ax.set_title('Relationship between rho and the convergence time')\n",
    "ax.set_xlabel('rho')\n",
    "ax.set_ylabel('# of iterations')\n"
   ]
  },
  {
   "cell_type": "markdown",
   "metadata": {},
   "source": [
    "As we can see in the graph, it takes only 2 iterations when $\\rho$ is around 0.2 and 0.3. When $\\rho$ is too small like less than 0.1, the convergence becomes slower and it takes more than 40 iterations to converge. It's interesting to note that the convergens becomes slower when $\\rho$ is above 0.4, and starts to get faster as $\\rho$ increases till 1. When $\\rho$ is greater than 1 the speed of convergence becomes almost flat, and once it reaches 5, the number of necesarry iteration stays constant at 5. "
   ]
  },
  {
   "cell_type": "markdown",
   "metadata": {},
   "source": [
    "### Experiment of gradually changing $\\rho$\n",
    "In the previous example we had only six data points. To better experiment the effect of how $\\rho$ is updated on the number of iterations, we increase the number of data points to 100. The numbers are generated randomly, and we assign label 2 if the value is greater than 0.9, and 1 otherwise. The following code generates such values and labels."
   ]
  },
  {
   "cell_type": "code",
   "execution_count": 163,
   "metadata": {},
   "outputs": [],
   "source": [
    "np.random.seed(893)\n",
    "x1 = np.random.randn(100)\n",
    "y1 = np.array([1 if val > 0.9 else 2 for val in x1])\n",
    "\n",
    "X1 = np.array([np.ones(len(x1)), x1])"
   ]
  },
  {
   "cell_type": "markdown",
   "metadata": {},
   "source": [
    "#### Case 1: $\\rho$ is fixed\n",
    "First we observe how the convergence speed changes as we change the value of $\\rho$ and we keep it fixed throughout the iterations."
   ]
  },
  {
   "cell_type": "code",
   "execution_count": 194,
   "metadata": {},
   "outputs": [
    {
     "data": {
      "text/plain": [
       "Text(0, 0.5, '# of iterations')"
      ]
     },
     "execution_count": 194,
     "metadata": {},
     "output_type": "execute_result"
    },
    {
     "data": {
      "image/png": "[encoded data removed]",
      "text/plain": [
       "<Figure size 432x288 with 1 Axes>"
      ]
     },
     "metadata": {
      "needs_background": "light"
     },
     "output_type": "display_data"
    }
   ],
   "source": [
    "# rhos = [0.005, 0.01, 0.1, 0.2, 0.3, 0.4, 0.5, 0.6, 0.7, 0.8, 0.9, 1.0, 2, 3, 4, 5, 6, 7, 8, 9, 10]\n",
    "iter_cnt = np.zeros(len(rhos))\n",
    "\n",
    "w = np.array([0.5, 0.5])\n",
    "for i, r in enumerate(rhos):\n",
    "    iter_cnt[i] = perceptron_training(w, X1, y1, r)\n",
    "    # print(\"rho = {}  found answer in {} iterations\".format(r, iter_cnt[i]))\n",
    "    \n",
    "fig, ax = plt.subplots(1, 1, figsize=(6, 4))\n",
    "ax.plot(rhos, iter_cnt)\n",
    "ax.set_title('Relationship between rho and the convergence time')\n",
    "ax.set_xlabel('rho')\n",
    "ax.set_ylabel('# of iterations')"
   ]
  },
  {
   "cell_type": "markdown",
   "metadata": {},
   "source": [
    "As the graph above shows, we can observe a few things.\n",
    "1. When $\\rho$ is small it takes more iterations until the algorithm finds the correct classification.\n",
    "2. When $\\rho$ gets larger, it takes less iterations and appears to have the best value of $\\rho$ that requires the lowest number of iterations. \n",
    "3. we do not observe a clear pattern between $\\rho$ and the number of iterations when $\\rho$ is greater than 2. It shows a wiggly pattern."
   ]
  },
  {
   "cell_type": "markdown",
   "metadata": {},
   "source": [
    "#### Case 2: $\\rho$ shrinks at each iteration by fraction.\n",
    "We will test how the number of iteration changes when we divide $\\rho$ by two so it reduces to its half every iteration."
   ]
  },
  {
   "cell_type": "code",
   "execution_count": 199,
   "metadata": {},
   "outputs": [
    {
     "data": {
      "text/plain": [
       "Text(0, 0.5, '# of iterations')"
      ]
     },
     "execution_count": 199,
     "metadata": {},
     "output_type": "execute_result"
    },
    {
     "data": {
      "image/png": "[encoded data removed]",
      "text/plain": [
       "<Figure size 432x288 with 1 Axes>"
      ]
     },
     "metadata": {
      "needs_background": "light"
     },
     "output_type": "display_data"
    }
   ],
   "source": [
    "def perceptron_training_shrink_half(w, X, y, rho = 0.5):\n",
    "    y_new = np.zeros(len(y))\n",
    "    rho_ = rho\n",
    "    # we will run upto 1000 iterations to avoid infinite loop.\n",
    "    for N in range(1000):\n",
    "        for i in range(len(y)):\n",
    "            w, old_w, y_pred, gx = update_weight(w, X[:,i], y[i], rho=rho_)\n",
    "            y_new[i] = y_pred\n",
    "\n",
    "        # update rho\n",
    "        rho_ = rho_ * 0.5\n",
    "        if all(y == y_new):\n",
    "            return N+1\n",
    "            break\n",
    "        else:\n",
    "            continue\n",
    "\n",
    "# rhos = [0.005, 0.01, 0.1, 0.2, 0.3, 0.4, 0.5, 0.6, 0.7, 0.8, 0.9, 1.0, 2, 3, 4, 5, 6, 7, 8, 9, 10]\n",
    "iter_cnt_shrink_half = np.zeros(len(rhos))\n",
    "\n",
    "w = np.array([0.5, 0.5])\n",
    "for i, r in enumerate(rhos):\n",
    "    iter_cnt_shrink_half[i] = perceptron_training_shrink_half(w, X1, y1, r)\n",
    "    # print(\"rho = {}  found answer in {} iterations\".format(r, iter_cnt[i]))\n",
    "\n",
    "fig, ax = plt.subplots(1, 1, figsize=(6, 4))\n",
    "ax.plot(rhos, iter_cnt_shrink_half)\n",
    "ax.set_title('Rho decreases to its half')\n",
    "ax.set_xlabel('rho')\n",
    "ax.set_ylabel('# of iterations')  \n"
   ]
  },
  {
   "cell_type": "code",
   "execution_count": 198,
   "metadata": {},
   "outputs": [
    {
     "data": {
      "text/plain": [
       "array([nan, nan,  8.,  3.,  2.,  7.,  7.,  2.,  2.,  4.,  7.,  7.,  3.,\n",
       "        7.,  8.])"
      ]
     },
     "execution_count": 198,
     "metadata": {},
     "output_type": "execute_result"
    }
   ],
   "source": [
    "iter_cnt_shrink_half"
   ]
  },
  {
   "cell_type": "markdown",
   "metadata": {},
   "source": [
    "This method shows a certain improvement in terms of the number of necessary iterations. At the worst case, it needs only 8 iterations even when $\\rho$ is less than 0.1. In case 1 where $\\rho$ is fixed, it needed more than 10 iterations. On the other hand, it shows some disadvantages. The number of required iterations changes vastly when $\\rho$ is between 0.1 and 1.1. When $\\rho = 0.1$ it needs 8 iterations while when it is 0.2 it needs only 3. When it increases to 0.4 the number of iterations goes up to 7, so small changes in $\\rho$ makes a big differene in the number of iterations. Another disadvantage is it does not converge within 1000 iterations when $\\rho$ is less than 0.01."
   ]
  },
  {
   "cell_type": "markdown",
   "metadata": {},
   "source": [
    "#### Case 3: $\\rho$ shrinks at the power of 2\n",
    "We take square of $\\rho$ at every iteration when $\\rho$ is less than 1 and take square root when $rho$ is greater than 1, so it decreases at slower pace than in case 2."
   ]
  },
  {
   "cell_type": "code",
   "execution_count": 200,
   "metadata": {},
   "outputs": [
    {
     "data": {
      "text/plain": [
       "Text(0, 0.5, '# of iterations')"
      ]
     },
     "execution_count": 200,
     "metadata": {},
     "output_type": "execute_result"
    },
    {
     "data": {
      "image/png": "[encoded data removed]",
      "text/plain": [
       "<Figure size 432x288 with 1 Axes>"
      ]
     },
     "metadata": {
      "needs_background": "light"
     },
     "output_type": "display_data"
    }
   ],
   "source": [
    "def perceptron_training_shrink_power(w, X, y, rho = 0.5):\n",
    "    y_new = np.zeros(len(y))\n",
    "    rho_ = rho\n",
    "    # we will run upto 1000 iterations to avoid infinite loop.\n",
    "    for N in range(1000):\n",
    "        for i in range(len(y)):\n",
    "            w, old_w, y_pred, gx = update_weight(w, X[:,i], y[i], rho=rho_)\n",
    "            y_new[i] = y_pred\n",
    "\n",
    "        # update rho\n",
    "        if rho_ > 1:\n",
    "            rho_ = rho_**0.5\n",
    "        else:\n",
    "            rho_ = rho_**2\n",
    "\n",
    "        if all(y == y_new):\n",
    "            return N+1\n",
    "            break\n",
    "        else:\n",
    "            continue\n",
    "\n",
    "# rhos = [0.005, 0.01, 0.1, 0.2, 0.3, 0.4, 0.5, 0.6, 0.7, 0.8, 0.9, 1.0, 2, 3, 4, 5, 6, 7, 8, 9, 10]\n",
    "iter_cnt_shrink_power = np.zeros(len(rhos))\n",
    "\n",
    "w = np.array([0.5, 0.5])\n",
    "for i, r in enumerate(rhos):\n",
    "    iter_cnt_shrink_power[i] = perceptron_training_shrink_power(w, X1, y1, r)\n",
    "    # print(\"rho = {}  found answer in {} iterations\".format(r, iter_cnt[i]))\n",
    "\n",
    "fig, ax = plt.subplots(1, 1, figsize=(6, 4))\n",
    "ax.plot(rhos, iter_cnt_shrink_power)\n",
    "ax.set_title('Rho decreases at the rate of power 2')\n",
    "ax.set_xlabel('rho')\n",
    "ax.set_ylabel('# of iterations')"
   ]
  },
  {
   "cell_type": "code",
   "execution_count": 202,
   "metadata": {},
   "outputs": [
    {
     "data": {
      "text/plain": [
       "array([nan, nan, nan, nan,  2.,  4., nan,  2.,  2.,  4.,  8.,  9.,  9.,\n",
       "       22., 38.])"
      ]
     },
     "execution_count": 202,
     "metadata": {},
     "output_type": "execute_result"
    }
   ],
   "source": [
    "iter_cnt_shrink_power"
   ]
  },
  {
   "cell_type": "markdown",
   "metadata": {},
   "source": [
    "It shows a clearly distinct pattern from case 2, and it shows a monotonically increasing pattern. The higher inital $\\rho$ is, the longer it takes to converge. In one respect, this characteristic is useful because we only need to make $\\rho$ smaller to achieve the lowest number of iterations, and we have somewhat predictable behaviour how the number of iterations changes as we change the value of $\\rho$.\n"
   ]
  },
  {
   "cell_type": "markdown",
   "metadata": {},
   "source": [
    "#### Case 4: $\\rho$ changes depending on the accuracy\n",
    "In the previous two cases, $\\rho$ decreases at the same rate irrespective of how many data points were correctly classified. It may make sense that we keep $\\rho$ high when the accuracy is low but we want to keep $\\rho$ small when the accuracy is high and need only a slight modification on the classification.\n",
    "\n",
    "We update $\\rho$ by muliplying it with $1 - accuracy$, thus $\\rho$ becomes small when the classification accuracy is high and it marginally decreases when the accuracy is low. For example, suppose the initial $\\rho$ is set as 1.0. When the accuracy is 20% it decreases to 0.8, but when the accuracy is 80% it decreases to 0.2."
   ]
  },
  {
   "cell_type": "code",
   "execution_count": 201,
   "metadata": {},
   "outputs": [
    {
     "data": {
      "text/plain": [
       "Text(0, 0.5, '# of iterations')"
      ]
     },
     "execution_count": 201,
     "metadata": {},
     "output_type": "execute_result"
    },
    {
     "data": {
      "image/png": "[encoded data removed]",
      "text/plain": [
       "<Figure size 432x288 with 1 Axes>"
      ]
     },
     "metadata": {
      "needs_background": "light"
     },
     "output_type": "display_data"
    }
   ],
   "source": [
    "def perceptron_training_shrink_by_accuracy(w, X, y, rho = 0.5):\n",
    "    y_new = np.zeros(len(y))\n",
    "    rho_ = rho\n",
    "    # we will run upto 1000 iterations to avoid infinite loop.\n",
    "    for N in range(1000):\n",
    "        for i in range(len(y)):\n",
    "            w, old_w, y_pred, gx = update_weight(w, X[:,i], y[i], rho=rho_)\n",
    "            y_new[i] = y_pred\n",
    "        \n",
    "        # calculate the classification accuracy.\n",
    "        # We keep rho high when the accuracy is low, small otherwise.\n",
    "        acc = sum(y == y_new) / len(y) * 1.0\n",
    "\n",
    "        # update rho\n",
    "        rho_ = rho_ * (1-acc)\n",
    "\n",
    "        if all(y == y_new):\n",
    "            return N+1\n",
    "            break\n",
    "        else:\n",
    "            continue\n",
    "\n",
    "# rhos = [0.005, 0.01, 0.1, 0.2, 0.3, 0.4, 0.5, 0.6, 0.7, 0.8, 0.9, 1.0, 2, 3, 4, 5, 6, 7, 8, 9, 10]\n",
    "iter_cnt_shrink_acc = np.zeros(len(rhos))\n",
    "\n",
    "w = np.array([0.5, 0.5])\n",
    "for i, r in enumerate(rhos):\n",
    "    iter_cnt_shrink_acc[i] = perceptron_training_shrink_by_accuracy(w, X1, y1, r)\n",
    "    # print(\"rho = {}  found answer in {} iterations\".format(r, iter_cnt[i]))\n",
    "\n",
    "fig, ax = plt.subplots(1, 1, figsize=(6, 4))\n",
    "ax.plot(rhos, iter_cnt_shrink_acc)\n",
    "ax.set_title('Rho decreases by the classification accuracy')\n",
    "ax.set_xlabel('rho')\n",
    "ax.set_ylabel('# of iterations')"
   ]
  },
  {
   "cell_type": "code",
   "execution_count": 206,
   "metadata": {},
   "outputs": [
    {
     "data": {
      "text/plain": [
       "[0.005, 0.01, 0.1, 0.2, 0.3, 0.4, 0.5, 0.6, 0.7, 0.8, 0.9, 1.0, 2, 5, 10]"
      ]
     },
     "execution_count": 206,
     "metadata": {},
     "output_type": "execute_result"
    }
   ],
   "source": [
    "rhos"
   ]
  },
  {
   "cell_type": "code",
   "execution_count": 204,
   "metadata": {},
   "outputs": [
    {
     "data": {
      "text/plain": [
       "array([nan, nan, nan, nan,  2.,  3., nan,  2.,  2., nan, nan, nan, nan,\n",
       "       nan, nan])"
      ]
     },
     "execution_count": 204,
     "metadata": {},
     "output_type": "execute_result"
    }
   ],
   "source": [
    "iter_cnt_shrink_acc"
   ]
  },
  {
   "cell_type": "markdown",
   "metadata": {},
   "source": [
    "In this case it looks very difficult to tune the initial value of $\\rho$. It converges within 1000 steps only when $\\rho$ is 0.3, 0.4, 0.6 and 0.7. When it does converge it needs at most three iterations. "
   ]
  },
  {
   "cell_type": "code",
   "execution_count": null,
   "metadata": {},
   "outputs": [],
   "source": []
  }
 ],
 "metadata": {
  "kernelspec": {
   "display_name": "Python 3",
   "language": "python",
   "name": "python3"
  },
  "language_info": {
   "codemirror_mode": {
    "name": "ipython",
    "version": 3
   },
   "file_extension": ".py",
   "mimetype": "text/x-python",
   "name": "python",
   "nbconvert_exporter": "python",
   "pygments_lexer": "ipython3",
   "version": "3.6.8"
  }
 },
 "nbformat": 4,
 "nbformat_minor": 2
}
