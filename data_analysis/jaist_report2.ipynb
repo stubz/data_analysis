{
 "cells": [
  {
   "cell_type": "markdown",
   "metadata": {},
   "source": [
    "# 認識処理工学特論レポート２\n",
    "\n",
    "# 学生番号: 1930032\n",
    "# 氏名: 山本雄介"
   ]
  },
  {
   "cell_type": "markdown",
   "metadata": {},
   "source": [
    "レポート課題：パターンの特徴量とスケールとの関係について実例を示して正規化が特徴を希釈する場合、強調する場合を上げて論ぜよ。\n",
    "\n",
    "正規化は分散ベースの正規化。各特徴量のパワーに基づく正規化とみなせる。\n",
    "\n",
    "そのため、パワー自体に意味がある場合は特徴を希釈化し、パワー自体にそれほど意味がない場合は特徴を強調できるのではないか、と考察する。また、多変量データで変数ごとのパワーがほぼ同じ場合、正規化によって元のデータの持つ意味は変わってしまうが、同じパワーを持つ値で割ることによって何か新しい情報が得られるわけではなく、希釈化が起きると考えられる。逆に変数ごとのパワーに大きなばらつきがある場合、パワーを使って規格化することで、異なるパワーを持つ変数の比較が容易となり、変数ごとの特徴や違いが強調できると考察する。"
   ]
  },
  {
   "cell_type": "markdown",
   "metadata": {},
   "source": [
    "## 特徴を希釈化する場合\n",
    "パワー自体に意味がある例として、異常値を持つデータが考えられる。例えば学生の身長のデータがあったとして、その中に一つだけ、明らかに身長のデータではないようなものが混ざって居るケースを考える。"
   ]
  },
  {
   "cell_type": "code",
   "execution_count": 42,
   "metadata": {},
   "outputs": [
    {
     "name": "stdout",
     "output_type": "stream",
     "text": [
      "Variance: 1,220,256,752.9  Variance without 100000: 31.3\n"
     ]
    }
   ],
   "source": [
    "x1 = np.array([165, 170, 178, 168, 177, 180, 100000])\n",
    "print(\"Variance: {:,.1f}  Variance without 100000: {:.1f}\".format(x1.var(),x1[:6].var()))"
   ]
  },
  {
   "cell_type": "markdown",
   "metadata": {},
   "source": [
    "この時、最後の要素である100000は、他の数字と比べて明らかに大きく、このままの数字で見たときに異常なデータであることがすぐにわかる。また、分散も大きな値を取り、仮に最後の要素がなかった場合、分散は31.3であるのに対し、このデータを正規化した場合、1,220,256,752と桁が異なる。つまり、データの持つパワーにデータが持つ特徴が表れていると考えられる。\n",
    "\n",
    "このデータを正規化した場合、"
   ]
  },
  {
   "cell_type": "code",
   "execution_count": 43,
   "metadata": {},
   "outputs": [
    {
     "data": {
      "text/plain": [
       "array([-0.41, -0.41, -0.41, -0.41, -0.41, -0.41,  2.45])"
      ]
     },
     "execution_count": 43,
     "metadata": {},
     "output_type": "execute_result"
    }
   ],
   "source": [
    "np.round((x1 - x1.mean())/x1.std(), 2)"
   ]
  },
  {
   "cell_type": "markdown",
   "metadata": {},
   "source": [
    "元の身長のデータは-0.41ぐらいに変換されるのに対し、100000は2.45に変換される。このとき、元データで持っていた各身長データのばらつきが、小数点第二までは同じ数字となり、区別がつかなくなってしまう。加えて、明らかに大きな数字であった100000が2.45と一桁の数字に変換されてしまい、明らかな異常値なのか、他の数字と似たような数字なのか、区別がつかなくなってしまう。\n",
    "\n",
    "もう一つ正規化が特徴を希釈化する例として、多変量での順位データが考えられる。例えば二人の人が５つのレストランを評価して、順位づけしたようなデータがあったとする。この場合、二人のデータはそれぞれ1から５までの値をとるため、分散を計算すると同じ値になる。"
   ]
  },
  {
   "cell_type": "code",
   "execution_count": 53,
   "metadata": {},
   "outputs": [
    {
     "name": "stdout",
     "output_type": "stream",
     "text": [
      "Variance of 1st data 2.00  Variance of 2nd data 2.00\n"
     ]
    }
   ],
   "source": [
    "rank1 = np.array([3,4,1,2,5])\n",
    "rank2 = np.array([4,2,1,3,5])\n",
    "print(\"Variance of 1st data {:.2f}  Variance of 2nd data {:.2f}\".format(rank1.var(), rank2.var()))"
   ]
  },
  {
   "cell_type": "markdown",
   "metadata": {},
   "source": [
    "それぞれのデータを正規化をしてしまうと、変換された値の大小関係は変わらないものの、順位という情報はなくなってしまう。"
   ]
  },
  {
   "cell_type": "code",
   "execution_count": 54,
   "metadata": {},
   "outputs": [
    {
     "name": "stdout",
     "output_type": "stream",
     "text": [
      "[ 0.          0.70710678 -1.41421356 -0.70710678  1.41421356]\n",
      "[ 0.70710678 -0.70710678 -1.41421356  0.          1.41421356]\n"
     ]
    }
   ],
   "source": [
    "rank_std1 = (rank1 - rank1.mean())/rank1.std()\n",
    "rank_std2 = (rank2 - rank2.mean())/rank2.std()\n",
    "print(rank_std1)\n",
    "print(rank_std2)"
   ]
  },
  {
   "cell_type": "markdown",
   "metadata": {},
   "source": [
    "それぞれのデータは順位から小数点の数字に変わってしまい、大小関係はわかるものの、それぞれのレストランを何位に評価したのかがわかりづらくなってしまう。"
   ]
  },
  {
   "cell_type": "markdown",
   "metadata": {},
   "source": [
    "## 正規化が特徴を強調する場合\n",
    "多次元データで各次元の分散、平均に大きな差がある場合、正規化によって特徴を強調することができる。\n",
    "\n",
    "* ２次元データで、分散がそれぞれ1と１０であるデータ\n",
    "* 10種競技の結果など異なるデータ\n",
    "\n",
    "などが考えられる。1988年のオリンピック男子10種競技における、３３人の選手の結果のデータを例として用いる。このデータは、１００m走、走り幅跳び、砲丸投げ、走高跳、４００m走、１１０mハードル、円盤投げ、棒高跳び、やり投げ、1500m走の１０種目の結果が記録されている。それぞれの記録は、競技によって単位が全く異なる。例えば100m走などは11.25秒などと秒数で記録され、やり投げや円盤投げはメートルで記録される。また、同じ単位であっても１００m走と1500m走ではデータの範囲が大きく異なる。\n",
    "\n",
    "データソース：\n",
    "\n",
    "* Example 357 in: \n",
    "Hand, D.J., Daly, F., Lunn, A.D., McConway, K.J. and Ostrowski, E. (1994) A handbook of small data sets, Chapman & Hall, London. 458 p.\n",
    "* Lunn, A. D. and McNeil, D.R. (1991) Computer-Interactive Data Analysis, Wiley, New York）"
   ]
  },
  {
   "cell_type": "code",
   "execution_count": 73,
   "metadata": {},
   "outputs": [
    {
     "data": {
      "text/html": [
       "<div>\n",
       "<style scoped>\n",
       "    .dataframe tbody tr th:only-of-type {\n",
       "        vertical-align: middle;\n",
       "    }\n",
       "\n",
       "    .dataframe tbody tr th {\n",
       "        vertical-align: top;\n",
       "    }\n",
       "\n",
       "    .dataframe thead th {\n",
       "        text-align: right;\n",
       "    }\n",
       "</style>\n",
       "<table border=\"1\" class=\"dataframe\">\n",
       "  <thead>\n",
       "    <tr style=\"text-align: right;\">\n",
       "      <th></th>\n",
       "      <th>100</th>\n",
       "      <th>long</th>\n",
       "      <th>poid</th>\n",
       "      <th>haut</th>\n",
       "      <th>400</th>\n",
       "      <th>110</th>\n",
       "      <th>disq</th>\n",
       "      <th>perc</th>\n",
       "      <th>jave</th>\n",
       "      <th>1500</th>\n",
       "    </tr>\n",
       "  </thead>\n",
       "  <tbody>\n",
       "    <tr>\n",
       "      <th>0</th>\n",
       "      <td>11.25</td>\n",
       "      <td>7.43</td>\n",
       "      <td>15.48</td>\n",
       "      <td>2.27</td>\n",
       "      <td>48.90</td>\n",
       "      <td>15.13</td>\n",
       "      <td>49.28</td>\n",
       "      <td>4.7</td>\n",
       "      <td>61.32</td>\n",
       "      <td>268.95</td>\n",
       "    </tr>\n",
       "    <tr>\n",
       "      <th>1</th>\n",
       "      <td>10.87</td>\n",
       "      <td>7.45</td>\n",
       "      <td>14.97</td>\n",
       "      <td>1.97</td>\n",
       "      <td>47.71</td>\n",
       "      <td>14.46</td>\n",
       "      <td>44.36</td>\n",
       "      <td>5.1</td>\n",
       "      <td>61.76</td>\n",
       "      <td>273.02</td>\n",
       "    </tr>\n",
       "    <tr>\n",
       "      <th>2</th>\n",
       "      <td>11.18</td>\n",
       "      <td>7.44</td>\n",
       "      <td>14.20</td>\n",
       "      <td>1.97</td>\n",
       "      <td>48.29</td>\n",
       "      <td>14.81</td>\n",
       "      <td>43.66</td>\n",
       "      <td>5.2</td>\n",
       "      <td>64.16</td>\n",
       "      <td>263.20</td>\n",
       "    </tr>\n",
       "    <tr>\n",
       "      <th>3</th>\n",
       "      <td>10.62</td>\n",
       "      <td>7.38</td>\n",
       "      <td>15.02</td>\n",
       "      <td>2.03</td>\n",
       "      <td>49.06</td>\n",
       "      <td>14.72</td>\n",
       "      <td>44.80</td>\n",
       "      <td>4.9</td>\n",
       "      <td>64.04</td>\n",
       "      <td>285.11</td>\n",
       "    </tr>\n",
       "    <tr>\n",
       "      <th>4</th>\n",
       "      <td>11.02</td>\n",
       "      <td>7.43</td>\n",
       "      <td>12.92</td>\n",
       "      <td>1.97</td>\n",
       "      <td>47.44</td>\n",
       "      <td>14.40</td>\n",
       "      <td>41.20</td>\n",
       "      <td>5.2</td>\n",
       "      <td>57.46</td>\n",
       "      <td>256.64</td>\n",
       "    </tr>\n",
       "  </tbody>\n",
       "</table>\n",
       "</div>"
      ],
      "text/plain": [
       "     100  long   poid  haut    400    110   disq  perc   jave    1500\n",
       "0  11.25  7.43  15.48  2.27  48.90  15.13  49.28   4.7  61.32  268.95\n",
       "1  10.87  7.45  14.97  1.97  47.71  14.46  44.36   5.1  61.76  273.02\n",
       "2  11.18  7.44  14.20  1.97  48.29  14.81  43.66   5.2  64.16  263.20\n",
       "3  10.62  7.38  15.02  2.03  49.06  14.72  44.80   4.9  64.04  285.11\n",
       "4  11.02  7.43  12.92  1.97  47.44  14.40  41.20   5.2  57.46  256.64"
      ]
     },
     "execution_count": 73,
     "metadata": {},
     "output_type": "execute_result"
    }
   ],
   "source": [
    "import pandas as pd \n",
    "olympic = pd.read_csv('olympic.csv')\n",
    "olympic_score = pd.read_csv('olympic_score.csv')\n",
    "olympic.head(5)"
   ]
  },
  {
   "cell_type": "markdown",
   "metadata": {},
   "source": [
    "上記は最初の５レコードを表示したものであるが、100m走なら10秒台前半のデータが多いように見えるし、1500mであれば250秒から280秒ぐらいのデータが入っているように見える。実際に各競技の分散を計算すると、円盤投げ（disq）、やり投げ、１５００m走(1500)は分散が１０を超えているのに対して、100m走(100)や走高跳(haut)は0.1をきっている。"
   ]
  },
  {
   "cell_type": "code",
   "execution_count": 4,
   "metadata": {},
   "outputs": [
    {
     "data": {
      "text/plain": [
       "100       0.059\n",
       "long      0.093\n",
       "poid      1.774\n",
       "haut      0.009\n",
       "400       1.144\n",
       "110       0.257\n",
       "disq     13.832\n",
       "perc      0.112\n",
       "jave     30.206\n",
       "1500    186.516\n",
       "dtype: float64"
      ]
     },
     "execution_count": 4,
     "metadata": {},
     "output_type": "execute_result"
    }
   ],
   "source": [
    "np.round(olympic.var(), 3)"
   ]
  },
  {
   "cell_type": "markdown",
   "metadata": {},
   "source": [
    "このまま正規化をせずにPrincipal Component Analysisをした場合、固有値の算出も分散を最大化するような軸回転を行おうとするので、分散が大きい1500m走ややり投げの結果にほとんど依存してしまうことが予想される。実際にPCAを行い固有ベクトルを計算すると、"
   ]
  },
  {
   "cell_type": "code",
   "execution_count": 12,
   "metadata": {},
   "outputs": [
    {
     "data": {
      "text/plain": [
       "array([[ 0.005, -0.008,  0.029, -0.001,  0.046,  0.005,  0.118, -0.   ,\n",
       "         0.053,  0.99 ],\n",
       "       [-0.006,  0.014,  0.156,  0.003,  0.001, -0.011,  0.352,  0.02 ,\n",
       "         0.918, -0.095]])"
      ]
     },
     "execution_count": 12,
     "metadata": {},
     "output_type": "execute_result"
    }
   ],
   "source": [
    "from sklearn.decomposition import PCA\n",
    "pca = PCA(n_components=2)\n",
    "pca.fit(olympic) \n",
    "np.round(pca.components_, 3)"
   ]
  },
  {
   "cell_type": "markdown",
   "metadata": {},
   "source": [
    "第一成分は１５００メートルのウェイトが0.99と最大で、円盤投げの0.118、やり投げの0.053と続く。それ以外の競技のウェイトは0.1を切っており、ほぼ全て１５００メートル走だけで結果が変わってしまうことがわかる。\n",
    "\n",
    "そのため、正規化を行ってからPCAを実施する方が、何か１つの競技結果でPCAの結果が大きく左右されるということがなくなると考えられる。"
   ]
  },
  {
   "cell_type": "code",
   "execution_count": 16,
   "metadata": {},
   "outputs": [
    {
     "data": {
      "text/html": [
       "<div>\n",
       "<style scoped>\n",
       "    .dataframe tbody tr th:only-of-type {\n",
       "        vertical-align: middle;\n",
       "    }\n",
       "\n",
       "    .dataframe tbody tr th {\n",
       "        vertical-align: top;\n",
       "    }\n",
       "\n",
       "    .dataframe thead th {\n",
       "        text-align: right;\n",
       "    }\n",
       "</style>\n",
       "<table border=\"1\" class=\"dataframe\">\n",
       "  <thead>\n",
       "    <tr style=\"text-align: right;\">\n",
       "      <th></th>\n",
       "      <th>100</th>\n",
       "      <th>long</th>\n",
       "      <th>poid</th>\n",
       "      <th>haut</th>\n",
       "      <th>400</th>\n",
       "      <th>110</th>\n",
       "      <th>disq</th>\n",
       "      <th>perc</th>\n",
       "      <th>jave</th>\n",
       "      <th>1500</th>\n",
       "    </tr>\n",
       "  </thead>\n",
       "  <tbody>\n",
       "    <tr>\n",
       "      <th>0</th>\n",
       "      <td>0.220435</td>\n",
       "      <td>0.974787</td>\n",
       "      <td>1.128864</td>\n",
       "      <td>3.056620</td>\n",
       "      <td>-0.352137</td>\n",
       "      <td>0.160256</td>\n",
       "      <td>1.862279</td>\n",
       "      <td>-0.117798</td>\n",
       "      <td>0.342288</td>\n",
       "      <td>-0.519033</td>\n",
       "    </tr>\n",
       "    <tr>\n",
       "      <th>1</th>\n",
       "      <td>-1.341288</td>\n",
       "      <td>1.040502</td>\n",
       "      <td>0.745979</td>\n",
       "      <td>-0.135420</td>\n",
       "      <td>-1.464640</td>\n",
       "      <td>-1.161855</td>\n",
       "      <td>0.539390</td>\n",
       "      <td>1.078301</td>\n",
       "      <td>0.422346</td>\n",
       "      <td>-0.221019</td>\n",
       "    </tr>\n",
       "    <tr>\n",
       "      <th>2</th>\n",
       "      <td>-0.067251</td>\n",
       "      <td>1.007645</td>\n",
       "      <td>0.167896</td>\n",
       "      <td>-0.135420</td>\n",
       "      <td>-0.922411</td>\n",
       "      <td>-0.471200</td>\n",
       "      <td>0.351174</td>\n",
       "      <td>1.377326</td>\n",
       "      <td>0.859027</td>\n",
       "      <td>-0.940060</td>\n",
       "    </tr>\n",
       "    <tr>\n",
       "      <th>3</th>\n",
       "      <td>-2.368738</td>\n",
       "      <td>0.810497</td>\n",
       "      <td>0.783516</td>\n",
       "      <td>0.502988</td>\n",
       "      <td>-0.202557</td>\n",
       "      <td>-0.648797</td>\n",
       "      <td>0.657697</td>\n",
       "      <td>0.480252</td>\n",
       "      <td>0.837193</td>\n",
       "      <td>0.664234</td>\n",
       "    </tr>\n",
       "    <tr>\n",
       "      <th>4</th>\n",
       "      <td>-0.724819</td>\n",
       "      <td>0.974787</td>\n",
       "      <td>-0.793071</td>\n",
       "      <td>-0.135420</td>\n",
       "      <td>-1.717056</td>\n",
       "      <td>-1.280253</td>\n",
       "      <td>-0.310271</td>\n",
       "      <td>1.377326</td>\n",
       "      <td>-0.360042</td>\n",
       "      <td>-1.420396</td>\n",
       "    </tr>\n",
       "  </tbody>\n",
       "</table>\n",
       "</div>"
      ],
      "text/plain": [
       "        100      long      poid      haut       400       110      disq  \\\n",
       "0  0.220435  0.974787  1.128864  3.056620 -0.352137  0.160256  1.862279   \n",
       "1 -1.341288  1.040502  0.745979 -0.135420 -1.464640 -1.161855  0.539390   \n",
       "2 -0.067251  1.007645  0.167896 -0.135420 -0.922411 -0.471200  0.351174   \n",
       "3 -2.368738  0.810497  0.783516  0.502988 -0.202557 -0.648797  0.657697   \n",
       "4 -0.724819  0.974787 -0.793071 -0.135420 -1.717056 -1.280253 -0.310271   \n",
       "\n",
       "       perc      jave      1500  \n",
       "0 -0.117798  0.342288 -0.519033  \n",
       "1  1.078301  0.422346 -0.221019  \n",
       "2  1.377326  0.859027 -0.940060  \n",
       "3  0.480252  0.837193  0.664234  \n",
       "4  1.377326 -0.360042 -1.420396  "
      ]
     },
     "execution_count": 16,
     "metadata": {},
     "output_type": "execute_result"
    }
   ],
   "source": [
    "# データを正規化する\n",
    "olympic_std = (olympic - olympic.mean()) / olympic.std()\n",
    "olympic_std.head(5)"
   ]
  },
  {
   "cell_type": "code",
   "execution_count": 17,
   "metadata": {},
   "outputs": [
    {
     "data": {
      "text/plain": [
       "array([[ 0.416, -0.394, -0.269, -0.212,  0.356,  0.433, -0.176, -0.384,\n",
       "        -0.18 ,  0.17 ],\n",
       "       [ 0.149, -0.152,  0.484,  0.028,  0.352,  0.07 ,  0.503,  0.15 ,\n",
       "         0.372,  0.421]])"
      ]
     },
     "execution_count": 17,
     "metadata": {},
     "output_type": "execute_result"
    }
   ],
   "source": [
    "pca_std = PCA(n_components=2)\n",
    "pca_std.fit(olympic_std) \n",
    "np.round(pca_std.components_, 3)"
   ]
  },
  {
   "cell_type": "markdown",
   "metadata": {},
   "source": [
    "正規化後にPCAを実行した場合、固有ベクトルの値は競技によって異なるが、どれか一つの競技のウェイトだけが突出して居るということがなく、各競技結果の値を考慮した結果になっている。たとえば第一成分の場合は、値が-0.4から0.5の間でばらついていることが観察できる。\n",
    "\n",
    "正規化前後のデータをPCAに当てはめて、第一主成分のベクトルを見てみる。"
   ]
  },
  {
   "cell_type": "code",
   "execution_count": 78,
   "metadata": {},
   "outputs": [
    {
     "name": "stdout",
     "output_type": "stream",
     "text": [
      "[ -6.074  -2.678 -12.35    9.527 -19.567  -2.312  15.048 -10.023  -5.977\n",
      "  16.717  20.036 -18.72  -18.561  -6.525  -8.326  -7.4    27.956  10.557\n",
      " -14.22    2.264  -9.508 -13.229  -2.996   1.099   8.574  -6.798 -15.095\n",
      "  27.202  -4.895  17.291  19.235  16.966  -7.218]\n",
      "[-1.733 -2.787 -1.879 -2.313 -2.261 -2.675 -1.619 -1.535 -1.148 -1.429\n",
      " -1.592 -0.758 -1.213 -1.224 -0.666 -0.597  1.452  0.235  0.064 -0.302\n",
      "  1.067  1.152  0.812  1.2    0.488  1.357  0.913  1.929  1.861  2.28\n",
      "  3.381  3.419  4.124]\n"
     ]
    }
   ],
   "source": [
    "pca_first_vec = np.round(pca.transform(olympic)[:, 0], 3)\n",
    "pca_std_first_vec = np.round(pca_std.transform(olympic_std)[:, 0], 3)\n",
    "print(pca_first_vec)\n",
    "print(pca_std_first_vec)\n"
   ]
  },
  {
   "cell_type": "markdown",
   "metadata": {},
   "source": [
    "正規化前のデータの第一主成分は、要素ごとの値がバラバラになっているのに対し、正規化後のデータの第一主成分は最初の方の値はマイナス値でだんだんと値が大きくなっていくようなパターンが見て取れる。\n",
    "\n",
    "実際にこのデータは、上から順番に10種競技のスコアが高い順に並んでおり、正規化後のデータについては各競技の結果のばらつきを考慮した上で、第一主成分がうまく実際のスコアを表しているように見える。逆に正規化前のデータをPCAに当てはめたデータについては、すでに観察した通り分散の大きい１５００メートル走の結果に大きく左右されていて、選手ごとのパフォーマンスという情報がうまく捕らえられていないと考えられる。"
   ]
  },
  {
   "cell_type": "code",
   "execution_count": 104,
   "metadata": {},
   "outputs": [
    {
     "data": {
      "text/plain": [
       "<matplotlib.axes._subplots.AxesSubplot at 0x119d93128>"
      ]
     },
     "execution_count": 104,
     "metadata": {},
     "output_type": "execute_result"
    },
    {
     "data": {
      "image/png": "[encoded data removed]",
      "text/plain": [
       "<Figure size 432x288 with 1 Axes>"
      ]
     },
     "metadata": {},
     "output_type": "display_data"
    }
   ],
   "source": [
    "import seaborn as sns; sns.set()\n",
    "import matplotlib.pyplot as plt\n",
    "\n",
    "df1 = pd.DataFrame({\n",
    "    'score': olympic_score.x,\n",
    "    'pca': pca_first_vec,\n",
    "    'has_std': ['without standardisation']*len(pca_first_vec)\n",
    "                   })\n",
    "df2 = pd.DataFrame({\n",
    "    'score': olympic_score.x,\n",
    "    'pca': pca_std_first_vec,\n",
    "    'has_std': ['with standardisation']*len(pca_std_first_vec)\n",
    "                   })\n",
    "\n",
    "df = pd.concat([df1, df2])\n",
    "\n",
    "sns.scatterplot(x=\"pca\", y=\"score\", data = df, style = \"has_std\")"
   ]
  },
  {
   "cell_type": "markdown",
   "metadata": {},
   "source": [
    "上記のグラフは、10種競技のスコアと、PCAの第一主成分の値を散布図にしたものである。丸い点が正規化なしのデータでPCAを当てはめたもの、バツ印の点が正規化したデータでPCAをあたはめたものとなっている。グラフからも見て取れる通り、正規化後のデータを使った方が、実際の10種競技のスコアとうまく相関しているように観察できる。このことは、正規化によって多変量データの持つ特徴を強調できた結果だと考えられる。\n",
    "\n",
    "以上、正規化によって特徴が希釈化される場合と、強調される場合を、実例を用いて分析を行った。"
   ]
  },
  {
   "cell_type": "code",
   "execution_count": null,
   "metadata": {},
   "outputs": [],
   "source": []
  }
 ],
 "metadata": {
  "kernelspec": {
   "display_name": "Python 3",
   "language": "python",
   "name": "python3"
  },
  "language_info": {
   "codemirror_mode": {
    "name": "ipython",
    "version": 3
   },
   "file_extension": ".py",
   "mimetype": "text/x-python",
   "name": "python",
   "nbconvert_exporter": "python",
   "pygments_lexer": "ipython3",
   "version": "3.5.5"
  }
 },
 "nbformat": 4,
 "nbformat_minor": 2
}
