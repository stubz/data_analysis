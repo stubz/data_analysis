{
 "cells": [
  {
   "cell_type": "code",
   "execution_count": 1,
   "metadata": {},
   "outputs": [],
   "source": [
    "import pandas as pd\n",
    "import xgboost as xgb"
   ]
  },
  {
   "cell_type": "code",
   "execution_count": 2,
   "metadata": {},
   "outputs": [],
   "source": [
    "df = pd.read_csv(\"2018_all_indicators.csv\")"
   ]
  },
  {
   "cell_type": "code",
   "execution_count": 3,
   "metadata": {},
   "outputs": [],
   "source": [
    "df = df[['dimension','indicator_name','iso3','country_name','2017']]"
   ]
  },
  {
   "cell_type": "code",
   "execution_count": 5,
   "metadata": {},
   "outputs": [
    {
     "data": {
      "text/html": [
       "<div>\n",
       "<style scoped>\n",
       "    .dataframe tbody tr th:only-of-type {\n",
       "        vertical-align: middle;\n",
       "    }\n",
       "\n",
       "    .dataframe tbody tr th {\n",
       "        vertical-align: top;\n",
       "    }\n",
       "\n",
       "    .dataframe thead th {\n",
       "        text-align: right;\n",
       "    }\n",
       "</style>\n",
       "<table border=\"1\" class=\"dataframe\">\n",
       "  <thead>\n",
       "    <tr style=\"text-align: right;\">\n",
       "      <th></th>\n",
       "      <th>dimension</th>\n",
       "      <th>indicator_name</th>\n",
       "      <th>iso3</th>\n",
       "      <th>country_name</th>\n",
       "      <th>2017</th>\n",
       "    </tr>\n",
       "  </thead>\n",
       "  <tbody>\n",
       "    <tr>\n",
       "      <th>0</th>\n",
       "      <td>Composite indices</td>\n",
       "      <td>HDI rank</td>\n",
       "      <td>AFG</td>\n",
       "      <td>Afghanistan</td>\n",
       "      <td>168.0</td>\n",
       "    </tr>\n",
       "    <tr>\n",
       "      <th>1</th>\n",
       "      <td>Composite indices</td>\n",
       "      <td>HDI rank</td>\n",
       "      <td>ALB</td>\n",
       "      <td>Albania</td>\n",
       "      <td>68.0</td>\n",
       "    </tr>\n",
       "    <tr>\n",
       "      <th>2</th>\n",
       "      <td>Composite indices</td>\n",
       "      <td>HDI rank</td>\n",
       "      <td>DZA</td>\n",
       "      <td>Algeria</td>\n",
       "      <td>85.0</td>\n",
       "    </tr>\n",
       "    <tr>\n",
       "      <th>3</th>\n",
       "      <td>Composite indices</td>\n",
       "      <td>HDI rank</td>\n",
       "      <td>AND</td>\n",
       "      <td>Andorra</td>\n",
       "      <td>35.0</td>\n",
       "    </tr>\n",
       "  </tbody>\n",
       "</table>\n",
       "</div>"
      ],
      "text/plain": [
       "           dimension indicator_name iso3 country_name   2017\n",
       "0  Composite indices       HDI rank  AFG  Afghanistan  168.0\n",
       "1  Composite indices       HDI rank  ALB      Albania   68.0\n",
       "2  Composite indices       HDI rank  DZA      Algeria   85.0\n",
       "3  Composite indices       HDI rank  AND      Andorra   35.0"
      ]
     },
     "execution_count": 5,
     "metadata": {},
     "output_type": "execute_result"
    }
   ],
   "source": [
    "df.head(4)"
   ]
  },
  {
   "cell_type": "code",
   "execution_count": 4,
   "metadata": {},
   "outputs": [
    {
     "data": {
      "text/plain": [
       "(25636, 5)"
      ]
     },
     "execution_count": 4,
     "metadata": {},
     "output_type": "execute_result"
    }
   ],
   "source": [
    "df.shape"
   ]
  },
  {
   "cell_type": "code",
   "execution_count": 6,
   "metadata": {},
   "outputs": [],
   "source": [
    "df = df.dropna()"
   ]
  },
  {
   "cell_type": "code",
   "execution_count": 7,
   "metadata": {},
   "outputs": [
    {
     "data": {
      "text/plain": [
       "(12728, 5)"
      ]
     },
     "execution_count": 7,
     "metadata": {},
     "output_type": "execute_result"
    }
   ],
   "source": [
    "df.shape"
   ]
  },
  {
   "cell_type": "code",
   "execution_count": 8,
   "metadata": {},
   "outputs": [
    {
     "data": {
      "text/plain": [
       "(195,)"
      ]
     },
     "execution_count": 8,
     "metadata": {},
     "output_type": "execute_result"
    }
   ],
   "source": [
    "df.iso3.unique().shape"
   ]
  },
  {
   "cell_type": "code",
   "execution_count": 9,
   "metadata": {},
   "outputs": [],
   "source": [
    "country_codes = list(df.iso3.unique())"
   ]
  },
  {
   "cell_type": "code",
   "execution_count": 10,
   "metadata": {},
   "outputs": [
    {
     "data": {
      "text/plain": [
       "['AFG', 'ALB', 'DZA', 'AND', 'AGO', 'ATG', 'ARG', 'ARM', 'AUS', 'AUT']"
      ]
     },
     "execution_count": 10,
     "metadata": {},
     "output_type": "execute_result"
    }
   ],
   "source": [
    "country_codes[:10]"
   ]
  },
  {
   "cell_type": "code",
   "execution_count": 11,
   "metadata": {},
   "outputs": [
    {
     "data": {
      "text/plain": [
       "array(['HDI rank', 'Human Development Index (HDI)',\n",
       "       'Old-age (65 and older) dependency ratio (per 100 people ages 15-64)',\n",
       "       'Population ages 15–64 (millions)',\n",
       "       'Population ages 65 and older (millions)',\n",
       "       'Population under age 5 (millions)',\n",
       "       'Sex ratio at birth (male to female births)',\n",
       "       'Total population (millions)', 'Urban population (%)',\n",
       "       'Young age (0-14) dependency ratio (per 100 people ages 15-64)',\n",
       "       'Education index', 'Expected years of schooling (years)',\n",
       "       'Expected years of schooling, female (years)',\n",
       "       'Expected years of schooling, male (years)',\n",
       "       'Government expenditure on education (% of GDP)',\n",
       "       'Gross enrolment ratio, pre-primary (% of preschool-age children)',\n",
       "       'Gross enrolment ratio, primary (% of primary school-age population)',\n",
       "       'Gross enrolment ratio, secondary (% of secondary school-age population)',\n",
       "       'Gross enrolment ratio, tertiary (% of tertiary school-age population)',\n",
       "       'Mean years of schooling (years)',\n",
       "       'Mean years of schooling, female (years)',\n",
       "       'Mean years of schooling, male (years)',\n",
       "       'Population with at least some secondary education (% ages 25 and older)',\n",
       "       'Population with at least some secondary education, female (% ages 25 and older)',\n",
       "       'Population with at least some secondary education, male (% ages 25 and older)',\n",
       "       'Primary school teachers trained to teach (%)',\n",
       "       'Pupil-teacher ratio, primary school (pupils per teacher)',\n",
       "       'Red List Index (value)',\n",
       "       'Adolescent birth rate (births per 1,000 women ages 15-19)',\n",
       "       'Antenatal care coverage, at least one visit (%)',\n",
       "       'Contraceptive prevalence, any method (% of married or in-union women of reproductive age, 15–49 years)',\n",
       "       'Estimated gross national income per capita, female (2011 PPP $)',\n",
       "       'Estimated gross national income per capita, male (2011 PPP $)',\n",
       "       'Female share of employment in senior and middle management (%)',\n",
       "       'Gender Development Index (GDI)', 'Gender Inequality Index (GII)',\n",
       "       'Human Development Index (HDI), female',\n",
       "       'Human Development Index (HDI), male',\n",
       "       'Mandatory paid maternity leave (days)',\n",
       "       'Maternal mortality ratio (deaths per 100,000 live births)',\n",
       "       'Proportion of births attended by skilled health personnel (%)',\n",
       "       'Share of employment in nonagriculture, female (% of total employment in nonagriculture)',\n",
       "       'Share of seats in parliament (% held by women)',\n",
       "       'Total unemployment rate (female to male ratio)',\n",
       "       'Unmet need for family planning (% of married or in-union women of reproductive age, 15–49 years)',\n",
       "       'Women with account at financial institution or with mobile money-service provider (% of female population ages 15 and older)',\n",
       "       'Youth unemployment rate (female to male ratio)',\n",
       "       'Infants lacking immunization, DPT (% of one-year-olds)',\n",
       "       'Infants lacking immunization, measles (% of one-year-olds)',\n",
       "       'Life expectancy at birth (years)',\n",
       "       'Life expectancy at birth, female (years)',\n",
       "       'Life expectancy at birth, male (years)', 'Life expectancy index',\n",
       "       'Refugees by country of origin (thousands)',\n",
       "       'Domestic credit provided by financial sector (% of GDP)',\n",
       "       'GDP per capita (2011 PPP $)',\n",
       "       'Gross domestic product (GDP), total (2011 PPP $ billions)',\n",
       "       'Gross fixed capital formation (% of GDP)',\n",
       "       'Gross national income (GNI) per capita (2011 PPP $)',\n",
       "       'Income index', 'Coefficient of human inequality',\n",
       "       'Inequality in education (%)', 'Inequality in income (%)',\n",
       "       'Inequality in life expectancy (%)',\n",
       "       'Inequality-adjusted education index',\n",
       "       'Inequality-adjusted HDI (IHDI)',\n",
       "       'Inequality-adjusted income index',\n",
       "       'Inequality-adjusted life expectancy index',\n",
       "       'Overall loss in HDI due to inequality (%)',\n",
       "       'International student mobility (% of total tertiary enrolment)',\n",
       "       'MPI 2018: Contribution of Education',\n",
       "       'MPI 2018: Contribution of Health',\n",
       "       'MPI 2018: Contribution of standard of living',\n",
       "       'Multidimensional poverty index (MPI)',\n",
       "       'Population in multidimensional poverty, headcount (%)',\n",
       "       'Population in multidimensional poverty, headcount (thousands) (for the year of the survey)',\n",
       "       'Population in multidimensional poverty, headcount (thousands) (projection for 2016)',\n",
       "       'Population in multidimensional poverty, intensity of deprivation (%)',\n",
       "       'Population in severe multidimensional poverty (%)',\n",
       "       'Population vulnerable to multidimensional poverty (%)',\n",
       "       'Working poor at PPP$3.10 a day (% of total employment)',\n",
       "       'Gross capital formation (% of GDP)',\n",
       "       'Skilled labour force (% of labour force)',\n",
       "       'Exports and imports (% of GDP)',\n",
       "       'Foreign direct investment, net inflows (% of GDP)',\n",
       "       'Private capital flows (% of GDP)',\n",
       "       'Remittances, inflows (% of GDP)',\n",
       "       'Employment in agriculture (% of total employment)',\n",
       "       'Employment in services (% of total employment)',\n",
       "       'Employment to population ratio (% ages 15 and older)',\n",
       "       'Labour force participation rate (% ages 15 and older)',\n",
       "       'Labour force participation rate (% ages 15 and older), female',\n",
       "       'Labour force participation rate (% ages 15 and older), male',\n",
       "       'Unemployment, total (% of labour force)',\n",
       "       'Unemployment, youth (% ages 15–24)',\n",
       "       'Vulnerable employment (% of total employment)',\n",
       "       'Youth not in school or employment (% ages 15-24)'], dtype=object)"
      ]
     },
     "execution_count": 11,
     "metadata": {},
     "output_type": "execute_result"
    }
   ],
   "source": [
    "df['indicator_name'].unique()"
   ]
  },
  {
   "cell_type": "code",
   "execution_count": 12,
   "metadata": {},
   "outputs": [
    {
     "data": {
      "text/plain": [
       "array(['Composite indices', 'Demography', 'Education',\n",
       "       'Environmental sustainability', 'Gender', 'Health',\n",
       "       'Human Security', 'Income/composition of resources', 'Inequality',\n",
       "       'Mobility and communication', 'Poverty',\n",
       "       'Socio-economic sustainability', 'Trade and financial flows',\n",
       "       'Work, employment and vulnerability'], dtype=object)"
      ]
     },
     "execution_count": 12,
     "metadata": {},
     "output_type": "execute_result"
    }
   ],
   "source": [
    "df['dimension'].unique()"
   ]
  },
  {
   "cell_type": "code",
   "execution_count": 13,
   "metadata": {},
   "outputs": [],
   "source": [
    "def indicators_in_dimension(dimension):\n",
    "    return list(df[df['dimension']==dimension]['indicator_name'].unique())"
   ]
  },
  {
   "cell_type": "code",
   "execution_count": 14,
   "metadata": {},
   "outputs": [
    {
     "data": {
      "text/plain": [
       "['Infants lacking immunization, DPT (% of one-year-olds)',\n",
       " 'Infants lacking immunization, measles (% of one-year-olds)',\n",
       " 'Life expectancy at birth (years)',\n",
       " 'Life expectancy at birth, female (years)',\n",
       " 'Life expectancy at birth, male (years)',\n",
       " 'Life expectancy index']"
      ]
     },
     "execution_count": 14,
     "metadata": {},
     "output_type": "execute_result"
    }
   ],
   "source": [
    "indicators_in_dimension(\"Health\")"
   ]
  },
  {
   "cell_type": "code",
   "execution_count": 15,
   "metadata": {},
   "outputs": [],
   "source": [
    "def data_for_indicator(indicator):\n",
    "    indicator_data = df[df['indicator_name']==indicator]\n",
    "    zipped_values = zip(list(indicator_data['iso3']),list(indicator_data['2017']))\n",
    "    return {k:{indicator : v} for k,v in zipped_values}"
   ]
  },
  {
   "cell_type": "code",
   "execution_count": 16,
   "metadata": {},
   "outputs": [],
   "source": [
    "#This will be our label\n",
    "life_expec = 'Life expectancy at birth (years)'\n",
    "indic = data_for_indicator(life_expec)"
   ]
  },
  {
   "cell_type": "code",
   "execution_count": 17,
   "metadata": {},
   "outputs": [
    {
     "name": "stdout",
     "output_type": "stream",
     "text": [
      "CAN {'Life expectancy at birth (years)': 82.5}\n",
      "ECU {'Life expectancy at birth (years)': 76.6}\n",
      "TJK {'Life expectancy at birth (years)': 71.2}\n",
      "CZE {'Life expectancy at birth (years)': 78.9}\n",
      "SVK {'Life expectancy at birth (years)': 77.0}\n",
      "SUR {'Life expectancy at birth (years)': 71.5}\n",
      "UGA {'Life expectancy at birth (years)': 60.2}\n",
      "PRK {'Life expectancy at birth (years)': 71.9}\n",
      "GBR {'Life expectancy at birth (years)': 81.7}\n",
      "SYR {'Life expectancy at birth (years)': 71.0}\n",
      "HRV {'Life expectancy at birth (years)': 77.8}\n",
      "BTN {'Life expectancy at birth (years)': 70.6}\n",
      "EST {'Life expectancy at birth (years)': 77.7}\n",
      "MAR {'Life expectancy at birth (years)': 76.1}\n",
      "MMR {'Life expectancy at birth (years)': 66.7}\n",
      "PAN {'Life expectancy at birth (years)': 78.2}\n",
      "LVA {'Life expectancy at birth (years)': 74.7}\n",
      "ITA {'Life expectancy at birth (years)': 83.2}\n",
      "UZB {'Life expectancy at birth (years)': 71.4}\n",
      "IRN {'Life expectancy at birth (years)': 76.2}\n",
      "MDA {'Life expectancy at birth (years)': 71.7}\n",
      "SGP {'Life expectancy at birth (years)': 83.2}\n",
      "ETH {'Life expectancy at birth (years)': 65.9}\n",
      "USA {'Life expectancy at birth (years)': 79.5}\n",
      "PSE {'Life expectancy at birth (years)': 73.6}\n",
      "ISL {'Life expectancy at birth (years)': 82.9}\n",
      "ISR {'Life expectancy at birth (years)': 82.7}\n",
      "WSM {'Life expectancy at birth (years)': 75.2}\n",
      "BRN {'Life expectancy at birth (years)': 77.4}\n",
      "RWA {'Life expectancy at birth (years)': 67.5}\n",
      "MDV {'Life expectancy at birth (years)': 77.6}\n",
      "TCD {'Life expectancy at birth (years)': 53.2}\n",
      "ATG {'Life expectancy at birth (years)': 76.5}\n",
      "LAO {'Life expectancy at birth (years)': 67.0}\n",
      "SWZ {'Life expectancy at birth (years)': 58.3}\n",
      "AFG {'Life expectancy at birth (years)': 64.0}\n",
      "MRT {'Life expectancy at birth (years)': 63.4}\n",
      "DZA {'Life expectancy at birth (years)': 76.3}\n",
      "AZE {'Life expectancy at birth (years)': 72.1}\n",
      "URY {'Life expectancy at birth (years)': 77.6}\n",
      "NAM {'Life expectancy at birth (years)': 64.8}\n",
      "ZMB {'Life expectancy at birth (years)': 62.3}\n",
      "LIE {'Life expectancy at birth (years)': 80.4}\n",
      "NGA {'Life expectancy at birth (years)': 53.9}\n",
      "MWI {'Life expectancy at birth (years)': 63.7}\n",
      "SOM {'Life expectancy at birth (years)': 56.7}\n",
      "SYC {'Life expectancy at birth (years)': 73.7}\n",
      "LBY {'Life expectancy at birth (years)': 72.1}\n",
      "FSM {'Life expectancy at birth (years)': 69.3}\n",
      "GNB {'Life expectancy at birth (years)': 57.8}\n",
      "BLZ {'Life expectancy at birth (years)': 70.6}\n",
      "ZAF {'Life expectancy at birth (years)': 63.4}\n",
      "LBN {'Life expectancy at birth (years)': 79.8}\n",
      "VCT {'Life expectancy at birth (years)': 73.3}\n",
      "NLD {'Life expectancy at birth (years)': 82.0}\n",
      "CYP {'Life expectancy at birth (years)': 80.7}\n",
      "BWA {'Life expectancy at birth (years)': 67.6}\n",
      "SSD {'Life expectancy at birth (years)': 57.3}\n",
      "MLI {'Life expectancy at birth (years)': 58.5}\n",
      "LKA {'Life expectancy at birth (years)': 75.5}\n",
      "BEL {'Life expectancy at birth (years)': 81.3}\n",
      "MYS {'Life expectancy at birth (years)': 75.5}\n",
      "EGY {'Life expectancy at birth (years)': 71.7}\n",
      "COL {'Life expectancy at birth (years)': 74.6}\n",
      "CHN {'Life expectancy at birth (years)': 76.4}\n",
      "YEM {'Life expectancy at birth (years)': 65.2}\n",
      "PNG {'Life expectancy at birth (years)': 65.7}\n",
      "UKR {'Life expectancy at birth (years)': 72.1}\n",
      "PLW {'Life expectancy at birth (years)': 73.4}\n",
      "BOL {'Life expectancy at birth (years)': 69.5}\n",
      "OMN {'Life expectancy at birth (years)': 77.3}\n",
      "VEN {'Life expectancy at birth (years)': 74.7}\n",
      "DNK {'Life expectancy at birth (years)': 80.9}\n",
      "POL {'Life expectancy at birth (years)': 77.8}\n",
      "SLB {'Life expectancy at birth (years)': 71.0}\n",
      "FRA {'Life expectancy at birth (years)': 82.7}\n",
      "DMA {'Life expectancy at birth (years)': 78.0}\n",
      "HND {'Life expectancy at birth (years)': 73.8}\n",
      "SEN {'Life expectancy at birth (years)': 67.5}\n",
      "LBR {'Life expectancy at birth (years)': 63.0}\n",
      "ROU {'Life expectancy at birth (years)': 75.6}\n",
      "TGO {'Life expectancy at birth (years)': 60.5}\n",
      "PER {'Life expectancy at birth (years)': 75.2}\n",
      "GAB {'Life expectancy at birth (years)': 66.5}\n",
      "BHR {'Life expectancy at birth (years)': 77.0}\n",
      "CHL {'Life expectancy at birth (years)': 79.7}\n",
      "IRQ {'Life expectancy at birth (years)': 70.0}\n",
      "CMR {'Life expectancy at birth (years)': 58.6}\n",
      "THA {'Life expectancy at birth (years)': 75.5}\n",
      "TZA {'Life expectancy at birth (years)': 66.3}\n",
      "MLT {'Life expectancy at birth (years)': 81.0}\n",
      "AGO {'Life expectancy at birth (years)': 61.8}\n",
      "ALB {'Life expectancy at birth (years)': 78.5}\n",
      "CAF {'Life expectancy at birth (years)': 52.9}\n",
      "BEN {'Life expectancy at birth (years)': 61.2}\n",
      "AND {'Life expectancy at birth (years)': 81.7}\n",
      "DJI {'Life expectancy at birth (years)': 62.6}\n",
      "IRL {'Life expectancy at birth (years)': 81.6}\n",
      "TTO {'Life expectancy at birth (years)': 70.8}\n",
      "PRT {'Life expectancy at birth (years)': 81.4}\n",
      "GIN {'Life expectancy at birth (years)': 60.6}\n",
      "CIV {'Life expectancy at birth (years)': 54.1}\n",
      "MNG {'Life expectancy at birth (years)': 69.5}\n",
      "ERI {'Life expectancy at birth (years)': 65.5}\n",
      "ZWE {'Life expectancy at birth (years)': 61.7}\n",
      "VNM {'Life expectancy at birth (years)': 76.5}\n",
      "JAM {'Life expectancy at birth (years)': 76.1}\n",
      "NER {'Life expectancy at birth (years)': 60.4}\n",
      "GTM {'Life expectancy at birth (years)': 73.7}\n",
      "MUS {'Life expectancy at birth (years)': 74.9}\n",
      "FJI {'Life expectancy at birth (years)': 70.4}\n",
      "AUT {'Life expectancy at birth (years)': 81.8}\n",
      "FIN {'Life expectancy at birth (years)': 81.5}\n",
      "COM {'Life expectancy at birth (years)': 63.9}\n",
      "MDG {'Life expectancy at birth (years)': 66.3}\n",
      "NIC {'Life expectancy at birth (years)': 75.7}\n",
      "TKM {'Life expectancy at birth (years)': 68.0}\n",
      "IND {'Life expectancy at birth (years)': 68.8}\n",
      "LCA {'Life expectancy at birth (years)': 75.7}\n",
      "QAT {'Life expectancy at birth (years)': 78.3}\n",
      "SLV {'Life expectancy at birth (years)': 73.8}\n",
      "LTU {'Life expectancy at birth (years)': 74.8}\n",
      "PRY {'Life expectancy at birth (years)': 73.2}\n",
      "MNE {'Life expectancy at birth (years)': 77.3}\n",
      "HUN {'Life expectancy at birth (years)': 76.1}\n",
      "MOZ {'Life expectancy at birth (years)': 58.9}\n",
      "JOR {'Life expectancy at birth (years)': 74.5}\n",
      "SVN {'Life expectancy at birth (years)': 81.1}\n",
      "DOM {'Life expectancy at birth (years)': 74.0}\n",
      "HKG {'Life expectancy at birth (years)': 84.1}\n",
      "NZL {'Life expectancy at birth (years)': 82.0}\n",
      "BFA {'Life expectancy at birth (years)': 60.8}\n",
      "CRI {'Life expectancy at birth (years)': 80.0}\n",
      "TUR {'Life expectancy at birth (years)': 76.0}\n",
      "KAZ {'Life expectancy at birth (years)': 70.0}\n",
      "ARE {'Life expectancy at birth (years)': 77.4}\n",
      "GEO {'Life expectancy at birth (years)': 73.4}\n",
      "PHL {'Life expectancy at birth (years)': 69.2}\n",
      "ARG {'Life expectancy at birth (years)': 76.7}\n",
      "COG {'Life expectancy at birth (years)': 65.1}\n",
      "MKD {'Life expectancy at birth (years)': 75.9}\n",
      "BDI {'Life expectancy at birth (years)': 57.9}\n",
      "IDN {'Life expectancy at birth (years)': 69.4}\n",
      "SAU {'Life expectancy at birth (years)': 74.7}\n",
      "BRA {'Life expectancy at birth (years)': 75.7}\n",
      "CUB {'Life expectancy at birth (years)': 79.9}\n",
      "GMB {'Life expectancy at birth (years)': 61.4}\n",
      "JPN {'Life expectancy at birth (years)': 83.9}\n",
      "NOR {'Life expectancy at birth (years)': 82.3}\n",
      "SWE {'Life expectancy at birth (years)': 82.6}\n",
      "KGZ {'Life expectancy at birth (years)': 71.1}\n",
      "VUT {'Life expectancy at birth (years)': 72.3}\n",
      "LSO {'Life expectancy at birth (years)': 54.6}\n",
      "TON {'Life expectancy at birth (years)': 73.2}\n",
      "KWT {'Life expectancy at birth (years)': 74.8}\n",
      "TLS {'Life expectancy at birth (years)': 69.2}\n",
      "CHE {'Life expectancy at birth (years)': 83.5}\n",
      "BGD {'Life expectancy at birth (years)': 72.8}\n",
      "GUY {'Life expectancy at birth (years)': 66.8}\n",
      "KOR {'Life expectancy at birth (years)': 82.4}\n",
      "KHM {'Life expectancy at birth (years)': 69.3}\n",
      "GRC {'Life expectancy at birth (years)': 81.4}\n",
      "SLE {'Life expectancy at birth (years)': 52.2}\n",
      "SRB {'Life expectancy at birth (years)': 75.3}\n",
      "MEX {'Life expectancy at birth (years)': 77.3}\n",
      "ESP {'Life expectancy at birth (years)': 83.3}\n",
      "TUN {'Life expectancy at birth (years)': 75.9}\n",
      "HTI {'Life expectancy at birth (years)': 63.6}\n",
      "KNA {'Life expectancy at birth (years)': 74.4}\n",
      "GHA {'Life expectancy at birth (years)': 63.0}\n",
      "BIH {'Life expectancy at birth (years)': 77.1}\n",
      "LUX {'Life expectancy at birth (years)': 82.0}\n",
      "COD {'Life expectancy at birth (years)': 60.0}\n",
      "NPL {'Life expectancy at birth (years)': 70.6}\n",
      "CPV {'Life expectancy at birth (years)': 73.0}\n",
      "SDN {'Life expectancy at birth (years)': 64.7}\n",
      "BRB {'Life expectancy at birth (years)': 76.1}\n",
      "KIR {'Life expectancy at birth (years)': 66.5}\n",
      "PAK {'Life expectancy at birth (years)': 66.6}\n",
      "BGR {'Life expectancy at birth (years)': 74.9}\n",
      "ARM {'Life expectancy at birth (years)': 74.8}\n",
      "MHL {'Life expectancy at birth (years)': 73.6}\n",
      "AUS {'Life expectancy at birth (years)': 83.1}\n",
      "BLR {'Life expectancy at birth (years)': 73.1}\n",
      "KEN {'Life expectancy at birth (years)': 67.3}\n",
      "STP {'Life expectancy at birth (years)': 66.8}\n",
      "RUS {'Life expectancy at birth (years)': 71.2}\n",
      "GNQ {'Life expectancy at birth (years)': 57.9}\n",
      "DEU {'Life expectancy at birth (years)': 81.2}\n",
      "BHS {'Life expectancy at birth (years)': 75.8}\n",
      "GRD {'Life expectancy at birth (years)': 73.8}\n"
     ]
    }
   ],
   "source": [
    "for k, v in indic.items():\n",
    "    print(k,v)"
   ]
  },
  {
   "cell_type": "code",
   "execution_count": 18,
   "metadata": {},
   "outputs": [],
   "source": [
    "def add_indicator_to(dictionary, indicator):\n",
    "    indicator_data = df[df['indicator_name']==indicator]\n",
    "    zipped_values = zip(list(indicator_data['iso3']), list(indicator_data['2017']))\n",
    "    for k, v in zipped_values:\n",
    "        try:\n",
    "            dictionary[k][indicator] = v\n",
    "        except:\n",
    "            print(\"failed with key: \"+k+\" on \"+indicator)"
   ]
  },
  {
   "cell_type": "code",
   "execution_count": 19,
   "metadata": {},
   "outputs": [
    {
     "name": "stdout",
     "output_type": "stream",
     "text": [
      "failed with key: MCO on Infants lacking immunization, measles (% of one-year-olds)\n",
      "failed with key: NRU on Infants lacking immunization, measles (% of one-year-olds)\n",
      "failed with key: SMR on Infants lacking immunization, measles (% of one-year-olds)\n",
      "failed with key: TUV on Infants lacking immunization, measles (% of one-year-olds)\n"
     ]
    }
   ],
   "source": [
    "vaccination = 'Infants lacking immunization, measles (% of one-year-olds)'\n",
    "add_indicator_to(indic, vaccination)"
   ]
  },
  {
   "cell_type": "code",
   "execution_count": 20,
   "metadata": {},
   "outputs": [
    {
     "name": "stdout",
     "output_type": "stream",
     "text": [
      "failed with key: MCO on Share of seats in parliament (% held by women)\n",
      "failed with key: NRU on Share of seats in parliament (% held by women)\n",
      "failed with key: SMR on Share of seats in parliament (% held by women)\n",
      "failed with key: TUV on Share of seats in parliament (% held by women)\n",
      "failed with key: MCO on Infants lacking immunization, measles (% of one-year-olds)\n",
      "failed with key: NRU on Infants lacking immunization, measles (% of one-year-olds)\n",
      "failed with key: SMR on Infants lacking immunization, measles (% of one-year-olds)\n",
      "failed with key: TUV on Infants lacking immunization, measles (% of one-year-olds)\n",
      "failed with key: NRU on Expected years of schooling (years)\n",
      "failed with key: SMR on Expected years of schooling (years)\n",
      "failed with key: NRU on Expected years of schooling, female (years)\n",
      "failed with key: SMR on Expected years of schooling, female (years)\n",
      "failed with key: NRU on Expected years of schooling, male (years)\n",
      "failed with key: SMR on Expected years of schooling, male (years)\n"
     ]
    }
   ],
   "source": [
    "indicators = [\n",
    "    'Share of seats in parliament (% held by women)',\n",
    "    'Infants lacking immunization, measles (% of one-year-olds)',\n",
    "    'Youth unemployment rate (female to male ratio)',\n",
    "    'Expected years of schooling (years)',\n",
    "       'Expected years of schooling, female (years)',\n",
    "       'Expected years of schooling, male (years)',\n",
    "    'Unemployment, total (% of labour force)',\n",
    "       'Unemployment, youth (% ages 15–24)',\n",
    "       'Vulnerable employment (% of total employment)',\n",
    "]\n",
    "for indicator in indicators:\n",
    "    add_indicator_to(indic, indicator)\n"
   ]
  },
  {
   "cell_type": "code",
   "execution_count": 21,
   "metadata": {},
   "outputs": [],
   "source": [
    "final_df = pd.DataFrame(indic).transpose()"
   ]
  },
  {
   "cell_type": "code",
   "execution_count": 22,
   "metadata": {},
   "outputs": [
    {
     "data": {
      "text/plain": [
       "Expected years of schooling (years)                           190\n",
       "Expected years of schooling, female (years)                   179\n",
       "Expected years of schooling, male (years)                     179\n",
       "Infants lacking immunization, measles (% of one-year-olds)    189\n",
       "Life expectancy at birth (years)                              191\n",
       "Share of seats in parliament (% held by women)                189\n",
       "Unemployment, total (% of labour force)                       180\n",
       "Unemployment, youth (% ages 15–24)                            180\n",
       "Vulnerable employment (% of total employment)                 180\n",
       "Youth unemployment rate (female to male ratio)                180\n",
       "dtype: int64"
      ]
     },
     "execution_count": 22,
     "metadata": {},
     "output_type": "execute_result"
    }
   ],
   "source": [
    "final_df.count()"
   ]
  },
  {
   "cell_type": "code",
   "execution_count": 23,
   "metadata": {},
   "outputs": [],
   "source": [
    "final_df =final_df.dropna()"
   ]
  },
  {
   "cell_type": "code",
   "execution_count": 24,
   "metadata": {},
   "outputs": [
    {
     "data": {
      "text/plain": [
       "Expected years of schooling (years)                           170\n",
       "Expected years of schooling, female (years)                   170\n",
       "Expected years of schooling, male (years)                     170\n",
       "Infants lacking immunization, measles (% of one-year-olds)    170\n",
       "Life expectancy at birth (years)                              170\n",
       "Share of seats in parliament (% held by women)                170\n",
       "Unemployment, total (% of labour force)                       170\n",
       "Unemployment, youth (% ages 15–24)                            170\n",
       "Vulnerable employment (% of total employment)                 170\n",
       "Youth unemployment rate (female to male ratio)                170\n",
       "dtype: int64"
      ]
     },
     "execution_count": 24,
     "metadata": {},
     "output_type": "execute_result"
    }
   ],
   "source": [
    "final_df.count()"
   ]
  },
  {
   "cell_type": "code",
   "execution_count": 25,
   "metadata": {},
   "outputs": [
    {
     "data": {
      "text/html": [
       "<div>\n",
       "<style scoped>\n",
       "    .dataframe tbody tr th:only-of-type {\n",
       "        vertical-align: middle;\n",
       "    }\n",
       "\n",
       "    .dataframe tbody tr th {\n",
       "        vertical-align: top;\n",
       "    }\n",
       "\n",
       "    .dataframe thead th {\n",
       "        text-align: right;\n",
       "    }\n",
       "</style>\n",
       "<table border=\"1\" class=\"dataframe\">\n",
       "  <thead>\n",
       "    <tr style=\"text-align: right;\">\n",
       "      <th></th>\n",
       "      <th>Expected years of schooling (years)</th>\n",
       "      <th>Expected years of schooling, female (years)</th>\n",
       "      <th>Expected years of schooling, male (years)</th>\n",
       "      <th>Infants lacking immunization, measles (% of one-year-olds)</th>\n",
       "      <th>Life expectancy at birth (years)</th>\n",
       "      <th>Share of seats in parliament (% held by women)</th>\n",
       "      <th>Unemployment, total (% of labour force)</th>\n",
       "      <th>Unemployment, youth (% ages 15–24)</th>\n",
       "      <th>Vulnerable employment (% of total employment)</th>\n",
       "      <th>Youth unemployment rate (female to male ratio)</th>\n",
       "    </tr>\n",
       "  </thead>\n",
       "  <tbody>\n",
       "    <tr>\n",
       "      <th>AFG</th>\n",
       "      <td>10.4</td>\n",
       "      <td>8.0</td>\n",
       "      <td>12.7</td>\n",
       "      <td>38.0</td>\n",
       "      <td>64.0</td>\n",
       "      <td>27.4</td>\n",
       "      <td>8.8</td>\n",
       "      <td>17.7</td>\n",
       "      <td>66.1</td>\n",
       "      <td>1.05</td>\n",
       "    </tr>\n",
       "    <tr>\n",
       "      <th>AGO</th>\n",
       "      <td>11.8</td>\n",
       "      <td>11.0</td>\n",
       "      <td>12.7</td>\n",
       "      <td>58.0</td>\n",
       "      <td>61.8</td>\n",
       "      <td>30.5</td>\n",
       "      <td>8.2</td>\n",
       "      <td>19.1</td>\n",
       "      <td>66.7</td>\n",
       "      <td>1.02</td>\n",
       "    </tr>\n",
       "    <tr>\n",
       "      <th>ALB</th>\n",
       "      <td>14.8</td>\n",
       "      <td>15.0</td>\n",
       "      <td>14.4</td>\n",
       "      <td>4.0</td>\n",
       "      <td>78.5</td>\n",
       "      <td>27.9</td>\n",
       "      <td>13.9</td>\n",
       "      <td>30.0</td>\n",
       "      <td>57.2</td>\n",
       "      <td>0.96</td>\n",
       "    </tr>\n",
       "    <tr>\n",
       "      <th>ARE</th>\n",
       "      <td>13.6</td>\n",
       "      <td>14.3</td>\n",
       "      <td>13.4</td>\n",
       "      <td>1.0</td>\n",
       "      <td>77.4</td>\n",
       "      <td>22.5</td>\n",
       "      <td>1.7</td>\n",
       "      <td>5.1</td>\n",
       "      <td>0.4</td>\n",
       "      <td>1.21</td>\n",
       "    </tr>\n",
       "    <tr>\n",
       "      <th>ARG</th>\n",
       "      <td>17.4</td>\n",
       "      <td>18.7</td>\n",
       "      <td>16.2</td>\n",
       "      <td>11.0</td>\n",
       "      <td>76.7</td>\n",
       "      <td>38.9</td>\n",
       "      <td>8.7</td>\n",
       "      <td>24.7</td>\n",
       "      <td>21.4</td>\n",
       "      <td>1.17</td>\n",
       "    </tr>\n",
       "  </tbody>\n",
       "</table>\n",
       "</div>"
      ],
      "text/plain": [
       "     Expected years of schooling (years)  \\\n",
       "AFG                                 10.4   \n",
       "AGO                                 11.8   \n",
       "ALB                                 14.8   \n",
       "ARE                                 13.6   \n",
       "ARG                                 17.4   \n",
       "\n",
       "     Expected years of schooling, female (years)  \\\n",
       "AFG                                          8.0   \n",
       "AGO                                         11.0   \n",
       "ALB                                         15.0   \n",
       "ARE                                         14.3   \n",
       "ARG                                         18.7   \n",
       "\n",
       "     Expected years of schooling, male (years)  \\\n",
       "AFG                                       12.7   \n",
       "AGO                                       12.7   \n",
       "ALB                                       14.4   \n",
       "ARE                                       13.4   \n",
       "ARG                                       16.2   \n",
       "\n",
       "     Infants lacking immunization, measles (% of one-year-olds)  \\\n",
       "AFG                                               38.0            \n",
       "AGO                                               58.0            \n",
       "ALB                                                4.0            \n",
       "ARE                                                1.0            \n",
       "ARG                                               11.0            \n",
       "\n",
       "     Life expectancy at birth (years)  \\\n",
       "AFG                              64.0   \n",
       "AGO                              61.8   \n",
       "ALB                              78.5   \n",
       "ARE                              77.4   \n",
       "ARG                              76.7   \n",
       "\n",
       "     Share of seats in parliament (% held by women)  \\\n",
       "AFG                                            27.4   \n",
       "AGO                                            30.5   \n",
       "ALB                                            27.9   \n",
       "ARE                                            22.5   \n",
       "ARG                                            38.9   \n",
       "\n",
       "     Unemployment, total (% of labour force)  \\\n",
       "AFG                                      8.8   \n",
       "AGO                                      8.2   \n",
       "ALB                                     13.9   \n",
       "ARE                                      1.7   \n",
       "ARG                                      8.7   \n",
       "\n",
       "     Unemployment, youth (% ages 15–24)  \\\n",
       "AFG                                17.7   \n",
       "AGO                                19.1   \n",
       "ALB                                30.0   \n",
       "ARE                                 5.1   \n",
       "ARG                                24.7   \n",
       "\n",
       "     Vulnerable employment (% of total employment)  \\\n",
       "AFG                                           66.1   \n",
       "AGO                                           66.7   \n",
       "ALB                                           57.2   \n",
       "ARE                                            0.4   \n",
       "ARG                                           21.4   \n",
       "\n",
       "     Youth unemployment rate (female to male ratio)  \n",
       "AFG                                            1.05  \n",
       "AGO                                            1.02  \n",
       "ALB                                            0.96  \n",
       "ARE                                            1.21  \n",
       "ARG                                            1.17  "
      ]
     },
     "execution_count": 25,
     "metadata": {},
     "output_type": "execute_result"
    }
   ],
   "source": [
    "final_df.head(5)"
   ]
  },
  {
   "cell_type": "markdown",
   "metadata": {},
   "source": [
    "# Feature Correlation Analysis"
   ]
  },
  {
   "cell_type": "code",
   "execution_count": 26,
   "metadata": {},
   "outputs": [
    {
     "name": "stderr",
     "output_type": "stream",
     "text": [
      "//anaconda/envs/kaggle/lib/python3.5/site-packages/matplotlib/tight_layout.py:182: UserWarning: The bottom and top margins cannot be made large enough to accommodate all axes decorations. \n",
      "  warnings.warn('The bottom and top margins cannot be made large '\n"
     ]
    },
    {
     "data": {
      "image/png": "[encoded data removed]",
      "text/plain": [
       "<Figure size 432x288 with 2 Axes>"
      ]
     },
     "metadata": {},
     "output_type": "display_data"
    }
   ],
   "source": [
    "import seaborn as sns\n",
    "import matplotlib.pyplot as plt\n",
    "%matplotlib inline\n",
    "fig = sns.heatmap(final_df.corr())\n",
    "plt.title(\"Correlation Heatmap\")\n",
    "plt.tight_layout()\n",
    "plt.savefig(\"correlation_heatmap\", figsize=(96,72))"
   ]
  },
  {
   "cell_type": "code",
   "execution_count": 27,
   "metadata": {},
   "outputs": [
    {
     "data": {
      "text/plain": [
       "Index(['AFG', 'AGO', 'ALB', 'ARE', 'ARG', 'ARM', 'AUS', 'AUT', 'AZE', 'BDI',\n",
       "       ...\n",
       "       'UZB', 'VCT', 'VEN', 'VNM', 'VUT', 'WSM', 'YEM', 'ZAF', 'ZMB', 'ZWE'],\n",
       "      dtype='object', length=170)"
      ]
     },
     "execution_count": 27,
     "metadata": {},
     "output_type": "execute_result"
    }
   ],
   "source": [
    "final_df.index"
   ]
  },
  {
   "cell_type": "code",
   "execution_count": 28,
   "metadata": {},
   "outputs": [
    {
     "data": {
      "text/plain": [
       "count    170.000000\n",
       "mean      72.163529\n",
       "std        7.697211\n",
       "min       52.200000\n",
       "25%       66.800000\n",
       "50%       73.800000\n",
       "75%       77.400000\n",
       "max       83.900000\n",
       "Name: Life expectancy at birth (years), dtype: float64"
      ]
     },
     "execution_count": 28,
     "metadata": {},
     "output_type": "execute_result"
    }
   ],
   "source": [
    "final_df[life_expec].describe()"
   ]
  },
  {
   "cell_type": "markdown",
   "metadata": {},
   "source": [
    "# Begin Training\n",
    "## Separating Training Data from Testing Data"
   ]
  },
  {
   "cell_type": "code",
   "execution_count": 29,
   "metadata": {},
   "outputs": [],
   "source": [
    "#making sure the label is not one of the training features.\n",
    "train_features = [feature for feature in list(final_df) if feature != life_expec]\n",
    "\n",
    "#training data\n",
    "train_df = final_df.iloc[:150][train_features]\n",
    "train_label = final_df.iloc[:150][life_expec]\n",
    "\n",
    "#test data\n",
    "test_df = final_df.iloc[150:][train_features]\n",
    "test_label = final_df.iloc[150:][life_expec]"
   ]
  },
  {
   "cell_type": "code",
   "execution_count": 34,
   "metadata": {},
   "outputs": [
    {
     "data": {
      "text/plain": [
       "TLS    69.2\n",
       "TON    73.2\n",
       "TTO    70.8\n",
       "TUN    75.9\n",
       "TUR    76.0\n",
       "TZA    66.3\n",
       "UGA    60.2\n",
       "UKR    72.1\n",
       "URY    77.6\n",
       "USA    79.5\n",
       "Name: Life expectancy at birth (years), dtype: float64"
      ]
     },
     "execution_count": 34,
     "metadata": {},
     "output_type": "execute_result"
    }
   ],
   "source": [
    "test_label[:10]"
   ]
  },
  {
   "cell_type": "code",
   "execution_count": 30,
   "metadata": {},
   "outputs": [],
   "source": [
    "import xgboost as xgb\n",
    "\n",
    "dtrain = xgb.DMatrix(train_df, label=train_label)\n",
    "dtest = xgb.DMatrix(test_df, label=test_label)\n",
    "# specify parameters via map\n",
    "param = {'max_depth':6,\n",
    "         'eta':1,  #this is the default value anyway\n",
    "         'colsample_bytree':1  #this is the default value anyway\n",
    "        }\n",
    "\n",
    "num_round = 15\n",
    "initial_trees = xgb.train(param, dtrain, num_round)\n",
    "# make prediction\n",
    "first_preds = initial_trees.predict(dtest)"
   ]
  },
  {
   "cell_type": "code",
   "execution_count": 31,
   "metadata": {},
   "outputs": [
    {
     "data": {
      "text/plain": [
       "array([ 71.95854187,  76.39560699,  77.32462311,  78.06069946,\n",
       "        82.74091339,  66.45611572,  66.76526642,  74.18044281,\n",
       "        72.31369019,  78.64035034,  73.18171692,  76.04037476,\n",
       "        75.81767273,  70.09674072,  64.80238342,  72.91110992,\n",
       "        61.02710724,  79.82162476,  66.28809357,  66.62446594], dtype=float32)"
      ]
     },
     "execution_count": 31,
     "metadata": {},
     "output_type": "execute_result"
    }
   ],
   "source": [
    "first_preds"
   ]
  },
  {
   "cell_type": "code",
   "execution_count": 32,
   "metadata": {},
   "outputs": [
    {
     "data": {
      "text/plain": [
       "5.604759216972512"
      ]
     },
     "execution_count": 32,
     "metadata": {},
     "output_type": "execute_result"
    }
   ],
   "source": [
    "import math \n",
    "\n",
    "def msesqrt(test_label, preds):\n",
    "    squared_errors = [diff*diff for diff in (test_label - preds)]\n",
    "    mse = sum(squared_errors)/len(preds)\n",
    "    return math.sqrt(mse)\n",
    "\n",
    "msesqrt(test_label, first_preds)"
   ]
  },
  {
   "cell_type": "code",
   "execution_count": 33,
   "metadata": {},
   "outputs": [
    {
     "data": {
      "text/plain": [
       "TLS    -2.758542\n",
       "TON    -3.195607\n",
       "TTO    -6.524623\n",
       "TUN    -2.160699\n",
       "TUR    -6.740913\n",
       "TZA    -0.156116\n",
       "UGA    -6.565266\n",
       "UKR    -2.080443\n",
       "URY     5.286310\n",
       "USA     0.859650\n",
       "UZB    -1.781717\n",
       "VCT    -2.740375\n",
       "VEN    -1.117673\n",
       "VNM     6.403259\n",
       "VUT     7.497617\n",
       "WSM     2.288890\n",
       "YEM     4.172893\n",
       "ZAF   -16.421625\n",
       "ZMB    -3.988094\n",
       "ZWE    -4.924466\n",
       "Name: Life expectancy at birth (years), dtype: float64"
      ]
     },
     "execution_count": 33,
     "metadata": {},
     "output_type": "execute_result"
    }
   ],
   "source": [
    "test_label - first_preds"
   ]
  },
  {
   "cell_type": "code",
   "execution_count": 35,
   "metadata": {},
   "outputs": [],
   "source": [
    "param = {'max_depth':5,\n",
    "         'eta':.1, \n",
    "         'colsample_bytree':.75 \n",
    "        }\n",
    "num_round = 40\n",
    "new_tree = xgb.train(param, dtrain, num_round)\n",
    "# make prediction\n",
    "new_preds = new_tree.predict(dtest)"
   ]
  },
  {
   "cell_type": "code",
   "execution_count": 36,
   "metadata": {},
   "outputs": [
    {
     "data": {
      "text/plain": [
       "3.748717075656575"
      ]
     },
     "execution_count": 36,
     "metadata": {},
     "output_type": "execute_result"
    }
   ],
   "source": [
    "msesqrt(test_label, new_preds)"
   ]
  },
  {
   "cell_type": "code",
   "execution_count": 37,
   "metadata": {},
   "outputs": [
    {
     "data": {
      "text/plain": [
       "TLS    -1.404637\n",
       "TON    -0.521214\n",
       "TTO    -4.529964\n",
       "TUN     0.065718\n",
       "TUR    -0.887581\n",
       "TZA     4.089173\n",
       "UGA    -2.845662\n",
       "UKR    -3.533080\n",
       "URY     3.896791\n",
       "USA     2.249405\n",
       "UZB     0.331709\n",
       "VCT    -0.657481\n",
       "VEN    -0.612233\n",
       "VNM     4.110100\n",
       "VUT    10.464921\n",
       "WSM     3.858295\n",
       "YEM     2.177531\n",
       "ZAF    -3.251642\n",
       "ZMB    -6.084171\n",
       "ZWE    -2.326077\n",
       "Name: Life expectancy at birth (years), dtype: float64"
      ]
     },
     "execution_count": 37,
     "metadata": {},
     "output_type": "execute_result"
    }
   ],
   "source": [
    "test_label - new_preds"
   ]
  },
  {
   "cell_type": "code",
   "execution_count": 38,
   "metadata": {
    "scrolled": true
   },
   "outputs": [
    {
     "data": {
      "image/png": "[encoded data removed]",
      "text/plain": [
       "<Figure size 432x288 with 1 Axes>"
      ]
     },
     "metadata": {},
     "output_type": "display_data"
    }
   ],
   "source": [
    "fig = xgb.plot_importance(new_tree)"
   ]
  },
  {
   "cell_type": "code",
   "execution_count": 39,
   "metadata": {},
   "outputs": [
    {
     "data": {
      "text/plain": [
       "<matplotlib.axes._subplots.AxesSubplot at 0x11ab04c50>"
      ]
     },
     "execution_count": 39,
     "metadata": {},
     "output_type": "execute_result"
    },
    {
     "data": {
      "image/png": "[encoded data removed]",
      "text/plain": [
       "<Figure size 432x288 with 1 Axes>"
      ]
     },
     "metadata": {},
     "output_type": "display_data"
    }
   ],
   "source": [
    "xgb.plot_importance(initial_trees)"
   ]
  },
  {
   "cell_type": "code",
   "execution_count": 389,
   "metadata": {},
   "outputs": [],
   "source": [
    "agg_preds = (new_preds + first_preds)/2"
   ]
  },
  {
   "cell_type": "code",
   "execution_count": 390,
   "metadata": {},
   "outputs": [
    {
     "data": {
      "text/plain": [
       "array([69.36041 , 62.967743, 73.70699 , 76.12506 , 76.95814 , 78.65455 ,\n",
       "       70.476456, 64.74556 , 74.90964 , 76.20831 , 81.33636 , 77.31447 ,\n",
       "       72.72916 , 71.70128 , 65.58957 , 75.215965, 75.00469 , 63.18793 ,\n",
       "       69.98039 , 64.9274  ], dtype=float32)"
      ]
     },
     "execution_count": 390,
     "metadata": {},
     "output_type": "execute_result"
    }
   ],
   "source": [
    "agg_preds"
   ]
  },
  {
   "cell_type": "code",
   "execution_count": 391,
   "metadata": {},
   "outputs": [
    {
     "data": {
      "text/plain": [
       "3.3816703332355047"
      ]
     },
     "execution_count": 391,
     "metadata": {},
     "output_type": "execute_result"
    }
   ],
   "source": [
    "msesqrt(std, test_label, agg_preds)"
   ]
  }
 ],
 "metadata": {
  "kernelspec": {
   "display_name": "Python 3",
   "language": "python",
   "name": "python3"
  },
  "language_info": {
   "codemirror_mode": {
    "name": "ipython",
    "version": 3
   },
   "file_extension": ".py",
   "mimetype": "text/x-python",
   "name": "python",
   "nbconvert_exporter": "python",
   "pygments_lexer": "ipython3",
   "version": "3.5.5"
  }
 },
 "nbformat": 4,
 "nbformat_minor": 2
}
